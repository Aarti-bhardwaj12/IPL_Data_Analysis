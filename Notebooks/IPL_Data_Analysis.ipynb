{
 "cells": [
  {
   "cell_type": "code",
   "execution_count": 164,
   "id": "d4549da8-e2bf-4aed-b9d6-fbacf32d6cd0",
   "metadata": {},
   "outputs": [],
   "source": [
    "# importing essential libraries\n",
    "import pandas as pd\n",
    "import numpy as np\n",
    "import matplotlib.pyplot as plt\n",
    "import seaborn as sns"
   ]
  },
  {
   "cell_type": "code",
   "execution_count": null,
   "id": "d5ca4d32-5fff-4586-a0bc-59cdac05c5b5",
   "metadata": {},
   "outputs": [
    {
     "data": {
      "text/html": [
       "<div>\n",
       "<style scoped>\n",
       "    .dataframe tbody tr th:only-of-type {\n",
       "        vertical-align: middle;\n",
       "    }\n",
       "\n",
       "    .dataframe tbody tr th {\n",
       "        vertical-align: top;\n",
       "    }\n",
       "\n",
       "    .dataframe thead th {\n",
       "        text-align: right;\n",
       "    }\n",
       "</style>\n",
       "<table border=\"1\" class=\"dataframe\">\n",
       "  <thead>\n",
       "    <tr style=\"text-align: right;\">\n",
       "      <th></th>\n",
       "      <th>match_no</th>\n",
       "      <th>team_1</th>\n",
       "      <th>team_2</th>\n",
       "      <th>batsmen</th>\n",
       "      <th>wicket_status</th>\n",
       "      <th>R</th>\n",
       "      <th>B</th>\n",
       "      <th>M</th>\n",
       "      <th>fours</th>\n",
       "      <th>sixes</th>\n",
       "      <th>SR</th>\n",
       "      <th>special_role</th>\n",
       "      <th>dismissal_mode</th>\n",
       "      <th>bowler_name</th>\n",
       "      <th>fielder</th>\n",
       "      <th>is_fielder_involved</th>\n",
       "      <th>match_date</th>\n",
       "    </tr>\n",
       "  </thead>\n",
       "  <tbody>\n",
       "    <tr>\n",
       "      <th>0</th>\n",
       "      <td>1</td>\n",
       "      <td>Mumbai Indians</td>\n",
       "      <td>Chennai Super Kings</td>\n",
       "      <td>ST Jayasuriya</td>\n",
       "      <td>c Hayden b Thushara</td>\n",
       "      <td>26.0</td>\n",
       "      <td>20.0</td>\n",
       "      <td>0.0</td>\n",
       "      <td>5.0</td>\n",
       "      <td>0.0</td>\n",
       "      <td>130.00</td>\n",
       "      <td>normal player</td>\n",
       "      <td>caught</td>\n",
       "      <td>Thushara</td>\n",
       "      <td>Hayden</td>\n",
       "      <td>1</td>\n",
       "      <td>2009-04-18</td>\n",
       "    </tr>\n",
       "    <tr>\n",
       "      <th>1</th>\n",
       "      <td>1</td>\n",
       "      <td>Mumbai Indians</td>\n",
       "      <td>Chennai Super Kings</td>\n",
       "      <td>SR Tendulkar</td>\n",
       "      <td>not out</td>\n",
       "      <td>59.0</td>\n",
       "      <td>49.0</td>\n",
       "      <td>0.0</td>\n",
       "      <td>7.0</td>\n",
       "      <td>0.0</td>\n",
       "      <td>120.40</td>\n",
       "      <td>captain</td>\n",
       "      <td>not out</td>\n",
       "      <td>no bowler</td>\n",
       "      <td>no fielder</td>\n",
       "      <td>0</td>\n",
       "      <td>2009-04-18</td>\n",
       "    </tr>\n",
       "    <tr>\n",
       "      <th>2</th>\n",
       "      <td>1</td>\n",
       "      <td>Mumbai Indians</td>\n",
       "      <td>Chennai Super Kings</td>\n",
       "      <td>S Dhawan</td>\n",
       "      <td>c Dhoni b Gony</td>\n",
       "      <td>22.0</td>\n",
       "      <td>21.0</td>\n",
       "      <td>0.0</td>\n",
       "      <td>2.0</td>\n",
       "      <td>0.0</td>\n",
       "      <td>104.76</td>\n",
       "      <td>normal player</td>\n",
       "      <td>caught</td>\n",
       "      <td>Gony</td>\n",
       "      <td>Dhoni</td>\n",
       "      <td>1</td>\n",
       "      <td>2009-04-18</td>\n",
       "    </tr>\n",
       "    <tr>\n",
       "      <th>3</th>\n",
       "      <td>1</td>\n",
       "      <td>Mumbai Indians</td>\n",
       "      <td>Chennai Super Kings</td>\n",
       "      <td>JP Duminy</td>\n",
       "      <td>c &amp; b Gony</td>\n",
       "      <td>9.0</td>\n",
       "      <td>7.0</td>\n",
       "      <td>0.0</td>\n",
       "      <td>1.0</td>\n",
       "      <td>0.0</td>\n",
       "      <td>128.57</td>\n",
       "      <td>normal player</td>\n",
       "      <td>caught</td>\n",
       "      <td>Gony</td>\n",
       "      <td>Gony</td>\n",
       "      <td>1</td>\n",
       "      <td>2009-04-18</td>\n",
       "    </tr>\n",
       "    <tr>\n",
       "      <th>4</th>\n",
       "      <td>1</td>\n",
       "      <td>Mumbai Indians</td>\n",
       "      <td>Chennai Super Kings</td>\n",
       "      <td>DJ Bravo</td>\n",
       "      <td>c Hayden b Joginder Sharma</td>\n",
       "      <td>5.0</td>\n",
       "      <td>4.0</td>\n",
       "      <td>0.0</td>\n",
       "      <td>1.0</td>\n",
       "      <td>0.0</td>\n",
       "      <td>125.00</td>\n",
       "      <td>normal player</td>\n",
       "      <td>caught</td>\n",
       "      <td>Joginder Sharma</td>\n",
       "      <td>Hayden</td>\n",
       "      <td>1</td>\n",
       "      <td>2009-04-18</td>\n",
       "    </tr>\n",
       "  </tbody>\n",
       "</table>\n",
       "</div>"
      ],
      "text/plain": [
       "  match_no          team_1               team_2        batsmen  \\\n",
       "0        1  Mumbai Indians  Chennai Super Kings  ST Jayasuriya   \n",
       "1        1  Mumbai Indians  Chennai Super Kings   SR Tendulkar   \n",
       "2        1  Mumbai Indians  Chennai Super Kings       S Dhawan   \n",
       "3        1  Mumbai Indians  Chennai Super Kings      JP Duminy   \n",
       "4        1  Mumbai Indians  Chennai Super Kings       DJ Bravo   \n",
       "\n",
       "                wicket_status     R     B    M  fours  sixes      SR  \\\n",
       "0         c Hayden b Thushara  26.0  20.0  0.0    5.0    0.0  130.00   \n",
       "1                     not out  59.0  49.0  0.0    7.0    0.0  120.40   \n",
       "2              c Dhoni b Gony  22.0  21.0  0.0    2.0    0.0  104.76   \n",
       "3                  c & b Gony   9.0   7.0  0.0    1.0    0.0  128.57   \n",
       "4  c Hayden b Joginder Sharma   5.0   4.0  0.0    1.0    0.0  125.00   \n",
       "\n",
       "    special_role dismissal_mode      bowler_name     fielder  \\\n",
       "0  normal player         caught         Thushara      Hayden   \n",
       "1        captain        not out        no bowler  no fielder   \n",
       "2  normal player         caught             Gony       Dhoni   \n",
       "3  normal player         caught             Gony        Gony   \n",
       "4  normal player         caught  Joginder Sharma      Hayden   \n",
       "\n",
       "   is_fielder_involved  match_date  \n",
       "0                    1  2009-04-18  \n",
       "1                    0  2009-04-18  \n",
       "2                    1  2009-04-18  \n",
       "3                    1  2009-04-18  \n",
       "4                    1  2009-04-18  "
      ]
     },
     "execution_count": 165,
     "metadata": {},
     "output_type": "execute_result"
    }
   ],
   "source": [
    "# Read datasets\n",
    "batting = pd.read_csv(\"../Data/ipl_batting.csv\")\n",
    "batsmen = pd.read_csv(\"../Data/Batsman_info.csv\")\n",
    "batting.head( )"
   ]
  },
  {
   "cell_type": "code",
   "execution_count": 166,
   "id": "d0568532-30ba-4b4e-a65d-b7f897c4df8e",
   "metadata": {},
   "outputs": [
    {
     "data": {
      "text/html": [
       "<div>\n",
       "<style scoped>\n",
       "    .dataframe tbody tr th:only-of-type {\n",
       "        vertical-align: middle;\n",
       "    }\n",
       "\n",
       "    .dataframe tbody tr th {\n",
       "        vertical-align: top;\n",
       "    }\n",
       "\n",
       "    .dataframe thead th {\n",
       "        text-align: right;\n",
       "    }\n",
       "</style>\n",
       "<table border=\"1\" class=\"dataframe\">\n",
       "  <thead>\n",
       "    <tr style=\"text-align: right;\">\n",
       "      <th></th>\n",
       "      <th>Match_id</th>\n",
       "      <th>Innings</th>\n",
       "      <th>Over</th>\n",
       "      <th>Delivery</th>\n",
       "      <th>Batsman</th>\n",
       "      <th>Bowler</th>\n",
       "      <th>non_striker</th>\n",
       "      <th>runs_batsman</th>\n",
       "      <th>runs_extras</th>\n",
       "      <th>extras_type</th>\n",
       "      <th>Runs_total</th>\n",
       "      <th>player_out</th>\n",
       "      <th>mode_of_dismissal</th>\n",
       "      <th>fielders_involved</th>\n",
       "    </tr>\n",
       "  </thead>\n",
       "  <tbody>\n",
       "    <tr>\n",
       "      <th>0</th>\n",
       "      <td>2016043001</td>\n",
       "      <td>1st innings</td>\n",
       "      <td>1</td>\n",
       "      <td>0.1</td>\n",
       "      <td>DA Warner</td>\n",
       "      <td>KW Richardson</td>\n",
       "      <td>S Dhawan</td>\n",
       "      <td>0</td>\n",
       "      <td>0</td>\n",
       "      <td>NaN</td>\n",
       "      <td>0</td>\n",
       "      <td>NaN</td>\n",
       "      <td>NaN</td>\n",
       "      <td>NaN</td>\n",
       "    </tr>\n",
       "    <tr>\n",
       "      <th>1</th>\n",
       "      <td>2016043001</td>\n",
       "      <td>1st innings</td>\n",
       "      <td>1</td>\n",
       "      <td>0.2</td>\n",
       "      <td>DA Warner</td>\n",
       "      <td>KW Richardson</td>\n",
       "      <td>S Dhawan</td>\n",
       "      <td>4</td>\n",
       "      <td>0</td>\n",
       "      <td>NaN</td>\n",
       "      <td>4</td>\n",
       "      <td>NaN</td>\n",
       "      <td>NaN</td>\n",
       "      <td>NaN</td>\n",
       "    </tr>\n",
       "    <tr>\n",
       "      <th>2</th>\n",
       "      <td>2016043001</td>\n",
       "      <td>1st innings</td>\n",
       "      <td>1</td>\n",
       "      <td>0.3</td>\n",
       "      <td>DA Warner</td>\n",
       "      <td>KW Richardson</td>\n",
       "      <td>S Dhawan</td>\n",
       "      <td>1</td>\n",
       "      <td>0</td>\n",
       "      <td>NaN</td>\n",
       "      <td>1</td>\n",
       "      <td>NaN</td>\n",
       "      <td>NaN</td>\n",
       "      <td>NaN</td>\n",
       "    </tr>\n",
       "    <tr>\n",
       "      <th>3</th>\n",
       "      <td>2016043001</td>\n",
       "      <td>1st innings</td>\n",
       "      <td>1</td>\n",
       "      <td>0.4</td>\n",
       "      <td>S Dhawan</td>\n",
       "      <td>KW Richardson</td>\n",
       "      <td>DA Warner</td>\n",
       "      <td>0</td>\n",
       "      <td>0</td>\n",
       "      <td>NaN</td>\n",
       "      <td>0</td>\n",
       "      <td>NaN</td>\n",
       "      <td>NaN</td>\n",
       "      <td>NaN</td>\n",
       "    </tr>\n",
       "    <tr>\n",
       "      <th>4</th>\n",
       "      <td>2016043001</td>\n",
       "      <td>1st innings</td>\n",
       "      <td>1</td>\n",
       "      <td>0.5</td>\n",
       "      <td>S Dhawan</td>\n",
       "      <td>KW Richardson</td>\n",
       "      <td>DA Warner</td>\n",
       "      <td>0</td>\n",
       "      <td>0</td>\n",
       "      <td>NaN</td>\n",
       "      <td>0</td>\n",
       "      <td>NaN</td>\n",
       "      <td>NaN</td>\n",
       "      <td>NaN</td>\n",
       "    </tr>\n",
       "  </tbody>\n",
       "</table>\n",
       "</div>"
      ],
      "text/plain": [
       "     Match_id      Innings  Over  Delivery    Batsman         Bowler  \\\n",
       "0  2016043001  1st innings     1       0.1  DA Warner  KW Richardson   \n",
       "1  2016043001  1st innings     1       0.2  DA Warner  KW Richardson   \n",
       "2  2016043001  1st innings     1       0.3  DA Warner  KW Richardson   \n",
       "3  2016043001  1st innings     1       0.4   S Dhawan  KW Richardson   \n",
       "4  2016043001  1st innings     1       0.5   S Dhawan  KW Richardson   \n",
       "\n",
       "  non_striker  runs_batsman  runs_extras extras_type  Runs_total player_out  \\\n",
       "0    S Dhawan             0            0         NaN           0        NaN   \n",
       "1    S Dhawan             4            0         NaN           4        NaN   \n",
       "2    S Dhawan             1            0         NaN           1        NaN   \n",
       "3   DA Warner             0            0         NaN           0        NaN   \n",
       "4   DA Warner             0            0         NaN           0        NaN   \n",
       "\n",
       "  mode_of_dismissal fielders_involved  \n",
       "0               NaN               NaN  \n",
       "1               NaN               NaN  \n",
       "2               NaN               NaN  \n",
       "3               NaN               NaN  \n",
       "4               NaN               NaN  "
      ]
     },
     "execution_count": 166,
     "metadata": {},
     "output_type": "execute_result"
    }
   ],
   "source": [
    "deliveries = pd.read_csv(\"../Data/ipl_deliveries.csv\")\n",
    "deliveries.head()"
   ]
  },
  {
   "cell_type": "code",
   "execution_count": 167,
   "id": "4eb62ce7-63ff-422c-a356-cf5f4d80ccae",
   "metadata": {},
   "outputs": [
    {
     "data": {
      "text/html": [
       "<div>\n",
       "<style scoped>\n",
       "    .dataframe tbody tr th:only-of-type {\n",
       "        vertical-align: middle;\n",
       "    }\n",
       "\n",
       "    .dataframe tbody tr th {\n",
       "        vertical-align: top;\n",
       "    }\n",
       "\n",
       "    .dataframe thead th {\n",
       "        text-align: right;\n",
       "    }\n",
       "</style>\n",
       "<table border=\"1\" class=\"dataframe\">\n",
       "  <thead>\n",
       "    <tr style=\"text-align: right;\">\n",
       "      <th></th>\n",
       "      <th>match_date</th>\n",
       "      <th>Ground</th>\n",
       "      <th>Team 1</th>\n",
       "      <th>Team 2</th>\n",
       "      <th>Winner</th>\n",
       "      <th>year</th>\n",
       "      <th>month</th>\n",
       "      <th>day</th>\n",
       "      <th>win_mode</th>\n",
       "      <th>margin</th>\n",
       "      <th>toss_winner</th>\n",
       "      <th>toss_decision</th>\n",
       "      <th>match_no</th>\n",
       "    </tr>\n",
       "  </thead>\n",
       "  <tbody>\n",
       "    <tr>\n",
       "      <th>0</th>\n",
       "      <td>2008-04-18</td>\n",
       "      <td>Bengaluru, Bangalore</td>\n",
       "      <td>Royal Challengers Bangalore</td>\n",
       "      <td>Kolkata Knight Riders</td>\n",
       "      <td>Kolkata Knight Riders</td>\n",
       "      <td>2008</td>\n",
       "      <td>4</td>\n",
       "      <td>18</td>\n",
       "      <td>Runs</td>\n",
       "      <td>140.0</td>\n",
       "      <td>Royal Challengers Bangalore</td>\n",
       "      <td>field first</td>\n",
       "      <td>1</td>\n",
       "    </tr>\n",
       "    <tr>\n",
       "      <th>1</th>\n",
       "      <td>2008-04-19</td>\n",
       "      <td>Mohali, Chandigarh</td>\n",
       "      <td>Kings XI Punjab</td>\n",
       "      <td>Chennai Super Kings</td>\n",
       "      <td>Chennai Super Kings</td>\n",
       "      <td>2008</td>\n",
       "      <td>4</td>\n",
       "      <td>19</td>\n",
       "      <td>Runs</td>\n",
       "      <td>33.0</td>\n",
       "      <td>Chennai Super Kings</td>\n",
       "      <td>bat first</td>\n",
       "      <td>2</td>\n",
       "    </tr>\n",
       "    <tr>\n",
       "      <th>2</th>\n",
       "      <td>2008-04-19</td>\n",
       "      <td>Delhi</td>\n",
       "      <td>Delhi Capitals</td>\n",
       "      <td>Rajasthan Royals</td>\n",
       "      <td>Delhi Capitals</td>\n",
       "      <td>2008</td>\n",
       "      <td>4</td>\n",
       "      <td>19</td>\n",
       "      <td>Wickets</td>\n",
       "      <td>9.0</td>\n",
       "      <td>Rajasthan Royals</td>\n",
       "      <td>bat first</td>\n",
       "      <td>3</td>\n",
       "    </tr>\n",
       "    <tr>\n",
       "      <th>3</th>\n",
       "      <td>2008-04-20</td>\n",
       "      <td>Kolkata</td>\n",
       "      <td>Kolkata Knight Riders</td>\n",
       "      <td>Deccan Chargers</td>\n",
       "      <td>Kolkata Knight Riders</td>\n",
       "      <td>2008</td>\n",
       "      <td>4</td>\n",
       "      <td>20</td>\n",
       "      <td>Wickets</td>\n",
       "      <td>5.0</td>\n",
       "      <td>Deccan Chargers</td>\n",
       "      <td>bat first</td>\n",
       "      <td>4</td>\n",
       "    </tr>\n",
       "    <tr>\n",
       "      <th>4</th>\n",
       "      <td>2008-04-20</td>\n",
       "      <td>Mumbai</td>\n",
       "      <td>Mumbai Indians</td>\n",
       "      <td>Royal Challengers Bangalore</td>\n",
       "      <td>Royal Challengers Bangalore</td>\n",
       "      <td>2008</td>\n",
       "      <td>4</td>\n",
       "      <td>20</td>\n",
       "      <td>Wickets</td>\n",
       "      <td>5.0</td>\n",
       "      <td>Mumbai Indians</td>\n",
       "      <td>bat first</td>\n",
       "      <td>5</td>\n",
       "    </tr>\n",
       "  </tbody>\n",
       "</table>\n",
       "</div>"
      ],
      "text/plain": [
       "   match_date                Ground                       Team 1  \\\n",
       "0  2008-04-18  Bengaluru, Bangalore  Royal Challengers Bangalore   \n",
       "1  2008-04-19    Mohali, Chandigarh              Kings XI Punjab   \n",
       "2  2008-04-19                 Delhi               Delhi Capitals   \n",
       "3  2008-04-20               Kolkata        Kolkata Knight Riders   \n",
       "4  2008-04-20                Mumbai               Mumbai Indians   \n",
       "\n",
       "                        Team 2                       Winner  year  month  day  \\\n",
       "0        Kolkata Knight Riders        Kolkata Knight Riders  2008      4   18   \n",
       "1          Chennai Super Kings          Chennai Super Kings  2008      4   19   \n",
       "2             Rajasthan Royals               Delhi Capitals  2008      4   19   \n",
       "3              Deccan Chargers        Kolkata Knight Riders  2008      4   20   \n",
       "4  Royal Challengers Bangalore  Royal Challengers Bangalore  2008      4   20   \n",
       "\n",
       "  win_mode  margin                  toss_winner toss_decision  match_no  \n",
       "0     Runs   140.0  Royal Challengers Bangalore   field first         1  \n",
       "1     Runs    33.0          Chennai Super Kings     bat first         2  \n",
       "2  Wickets     9.0             Rajasthan Royals     bat first         3  \n",
       "3  Wickets     5.0              Deccan Chargers     bat first         4  \n",
       "4  Wickets     5.0               Mumbai Indians     bat first         5  "
      ]
     },
     "execution_count": 167,
     "metadata": {},
     "output_type": "execute_result"
    }
   ],
   "source": [
    "matches = pd.read_csv(\"../Data/ipl_matches.csv\")\n",
    "matches.head()"
   ]
  },
  {
   "cell_type": "code",
   "execution_count": 168,
   "id": "e8773d59-8a3f-4e15-8048-33136f92182b",
   "metadata": {},
   "outputs": [
    {
     "data": {
      "text/plain": [
       "match_date        object\n",
       "Ground            object\n",
       "Team 1            object\n",
       "Team 2            object\n",
       "Winner            object\n",
       "year               int64\n",
       "month              int64\n",
       "day                int64\n",
       "win_mode          object\n",
       "margin           float64\n",
       "toss_winner       object\n",
       "toss_decision     object\n",
       "match_no           int64\n",
       "dtype: object"
      ]
     },
     "execution_count": 168,
     "metadata": {},
     "output_type": "execute_result"
    }
   ],
   "source": [
    "matches.dtypes"
   ]
  },
  {
   "cell_type": "code",
   "execution_count": 125,
   "id": "de8873ed-46b3-484b-945d-4ab9f985fb94",
   "metadata": {},
   "outputs": [],
   "source": [
    "# granuality- match date, team 1, team 2, ground & winner"
   ]
  },
  {
   "cell_type": "code",
   "execution_count": 126,
   "id": "4a5a1f65-1f0f-476a-a3fb-0ab8d0cc7514",
   "metadata": {},
   "outputs": [],
   "source": [
    "date=matches.match_date\n",
    "key=[]\n",
    "visited=[]\n",
    "for i in date:\n",
    "  if i in visited:\n",
    "      number= visited.count(i)\n",
    "      temp=i.split('-')\n",
    "      temp1=temp[0]+temp[1]+temp[2]+'0'+str(number+1)\n",
    "      visited.append(i)\n",
    "      key.append(temp1)\n",
    "  else:\n",
    "      temp=i.split('-')\n",
    "      temp1=temp[0]+temp[1]+temp[2]+'01'\n",
    "      key.append(temp1)\n",
    "      visited.append(i)\n"
   ]
  },
  {
   "cell_type": "code",
   "execution_count": 127,
   "id": "088d5d06-f7ca-4ac5-80bd-b91813773f34",
   "metadata": {},
   "outputs": [],
   "source": [
    "matches['match_key']=key"
   ]
  },
  {
   "cell_type": "code",
   "execution_count": 128,
   "id": "9ba32870-1465-47a1-b060-f4fad3889d21",
   "metadata": {},
   "outputs": [
    {
     "data": {
      "text/plain": [
       "array(['Royal Challengers Bangalore', 'Kings XI Punjab', 'Delhi Capitals',\n",
       "       'Kolkata Knight Riders', 'Mumbai Indians', 'Rajasthan Royals',\n",
       "       'Deccan Chargers', 'Chennai Super Kings', 'Kochi Tuskers Kerala',\n",
       "       'Pune Warriors', 'Sunrisers Hyderabad', 'Gujarat Lions',\n",
       "       'Rising Pune Supergiant'], dtype=object)"
      ]
     },
     "execution_count": 128,
     "metadata": {},
     "output_type": "execute_result"
    }
   ],
   "source": [
    "matches['Team 1'].unique()"
   ]
  },
  {
   "cell_type": "code",
   "execution_count": 129,
   "id": "c0b1bbc0-3140-4554-938f-d87fb32eed03",
   "metadata": {},
   "outputs": [
    {
     "data": {
      "text/plain": [
       "array(['Kolkata Knight Riders', 'Chennai Super Kings', 'Rajasthan Royals',\n",
       "       'Deccan Chargers', 'Royal Challengers Bangalore',\n",
       "       'Kings XI Punjab', 'Delhi Capitals', 'Mumbai Indians',\n",
       "       'Kochi Tuskers Kerala', 'Pune Warriors', 'Sunrisers Hyderabad',\n",
       "       'Rising Pune Supergiant', 'Gujarat Lions'], dtype=object)"
      ]
     },
     "execution_count": 129,
     "metadata": {},
     "output_type": "execute_result"
    }
   ],
   "source": [
    "matches['Team 2'].unique()"
   ]
  },
  {
   "cell_type": "code",
   "execution_count": 16,
   "id": "81302432-a392-4afa-8b64-e34c449ea3b5",
   "metadata": {},
   "outputs": [
    {
     "name": "stderr",
     "output_type": "stream",
     "text": [
      "C:\\Users\\aarti\\AppData\\Local\\Temp\\ipykernel_12544\\2747629488.py:1: FutureWarning: A value is trying to be set on a copy of a DataFrame or Series through chained assignment using an inplace method.\n",
      "The behavior will change in pandas 3.0. This inplace method will never work because the intermediate object on which we are setting values always behaves as a copy.\n",
      "\n",
      "For example, when doing 'df[col].method(value, inplace=True)', try using 'df.method({col: value}, inplace=True)' or df[col] = df[col].method(value) instead, to perform the operation inplace on the original object.\n",
      "\n",
      "\n",
      "  matches['toss_winner'].replace(to_replace='Rising Pune Supergiants',value='Rising Pune Supergiant',inplace=True)\n"
     ]
    }
   ],
   "source": [
    "matches['toss_winner'].replace(to_replace='Rising Pune Supergiants',value='Rising Pune Supergiant',inplace=True)"
   ]
  },
  {
   "cell_type": "code",
   "execution_count": 130,
   "id": "e539bd47-67f6-4bd7-9fd1-5283b1dc7e49",
   "metadata": {},
   "outputs": [
    {
     "data": {
      "text/plain": [
       "array(['Royal Challengers Bangalore', 'Chennai Super Kings',\n",
       "       'Rajasthan Royals', 'Deccan Chargers', 'Mumbai Indians',\n",
       "       'Kings XI Punjab', 'Kolkata Knight Riders', 'Delhi Capitals',\n",
       "       'no toss', 'Kochi Tuskers Kerala', 'Pune Warriors',\n",
       "       'Sunrisers Hyderabad', 'Gujarat Lions', 'Rising Pune Supergiants',\n",
       "       'Rising Pune Supergiant'], dtype=object)"
      ]
     },
     "execution_count": 130,
     "metadata": {},
     "output_type": "execute_result"
    }
   ],
   "source": [
    "matches['toss_winner'].unique()"
   ]
  },
  {
   "cell_type": "code",
   "execution_count": 131,
   "id": "3ce83995-bcd5-421c-b016-11cf308c317a",
   "metadata": {},
   "outputs": [],
   "source": [
    "team_1=matches['Team 1'].groupby(matches['Team 1']).agg('count')"
   ]
  },
  {
   "cell_type": "code",
   "execution_count": 132,
   "id": "afb7c8b6-ceaf-452b-9e12-f69a824f82f3",
   "metadata": {},
   "outputs": [
    {
     "data": {
      "text/plain": [
       "Team 1\n",
       "Chennai Super Kings             91\n",
       "Deccan Chargers                 39\n",
       "Delhi Capitals                  92\n",
       "Gujarat Lions                   16\n",
       "Kings XI Punjab                 87\n",
       "Kochi Tuskers Kerala             7\n",
       "Kolkata Knight Riders           87\n",
       "Mumbai Indians                  87\n",
       "Pune Warriors                   23\n",
       "Rajasthan Royals                66\n",
       "Rising Pune Supergiant          14\n",
       "Royal Challengers Bangalore    101\n",
       "Sunrisers Hyderabad             53\n",
       "Name: Team 1, dtype: int64"
      ]
     },
     "execution_count": 132,
     "metadata": {},
     "output_type": "execute_result"
    }
   ],
   "source": [
    "team_1"
   ]
  },
  {
   "cell_type": "code",
   "execution_count": 133,
   "id": "c81bd2d6-09f2-4983-adad-971ece779330",
   "metadata": {},
   "outputs": [],
   "source": [
    "team_2=matches['Team 2'].groupby(matches['Team 2']).agg('count')"
   ]
  },
  {
   "cell_type": "code",
   "execution_count": 134,
   "id": "e9d6071f-34dd-4fb9-92cb-4061945d4ed6",
   "metadata": {},
   "outputs": [
    {
     "data": {
      "text/plain": [
       "Team 2\n",
       "Chennai Super Kings             75\n",
       "Deccan Chargers                 37\n",
       "Delhi Capitals                  86\n",
       "Gujarat Lions                   14\n",
       "Kings XI Punjab                 88\n",
       "Kochi Tuskers Kerala             7\n",
       "Kolkata Knight Riders           94\n",
       "Mumbai Indians                 101\n",
       "Pune Warriors                   23\n",
       "Rajasthan Royals                84\n",
       "Rising Pune Supergiant          16\n",
       "Royal Challengers Bangalore     82\n",
       "Sunrisers Hyderabad             56\n",
       "Name: Team 2, dtype: int64"
      ]
     },
     "execution_count": 134,
     "metadata": {},
     "output_type": "execute_result"
    }
   ],
   "source": [
    "team_2"
   ]
  },
  {
   "cell_type": "code",
   "execution_count": 22,
   "id": "ef2d3ca4-a498-4deb-bcce-cf1f996a6938",
   "metadata": {},
   "outputs": [],
   "source": [
    "total_matches= team_1+team_2"
   ]
  },
  {
   "cell_type": "code",
   "execution_count": 135,
   "id": "c561eeee-62c3-43d8-8f5c-1580d6dfb10c",
   "metadata": {},
   "outputs": [
    {
     "data": {
      "text/plain": [
       "Team 1\n",
       "Chennai Super Kings            166\n",
       "Deccan Chargers                 76\n",
       "Delhi Capitals                 178\n",
       "Gujarat Lions                   30\n",
       "Kings XI Punjab                175\n",
       "Kochi Tuskers Kerala            14\n",
       "Kolkata Knight Riders          181\n",
       "Mumbai Indians                 188\n",
       "Pune Warriors                   46\n",
       "Rajasthan Royals               150\n",
       "Rising Pune Supergiant          30\n",
       "Royal Challengers Bangalore    183\n",
       "Sunrisers Hyderabad            109\n",
       "dtype: int64"
      ]
     },
     "execution_count": 135,
     "metadata": {},
     "output_type": "execute_result"
    }
   ],
   "source": [
    "total_matches"
   ]
  },
  {
   "cell_type": "code",
   "execution_count": 136,
   "id": "897837d2-7894-4c7c-a91f-07098b66b5d9",
   "metadata": {},
   "outputs": [],
   "source": [
    "toss_winner=matches['toss_winner'].groupby(matches['toss_winner']).agg('count')"
   ]
  },
  {
   "cell_type": "code",
   "execution_count": 137,
   "id": "6a4b5a00-b1fb-45a8-a0d4-0d714baced99",
   "metadata": {},
   "outputs": [
    {
     "data": {
      "text/plain": [
       "toss_winner\n",
       "Chennai Super Kings            89\n",
       "Deccan Chargers                43\n",
       "Delhi Capitals                 90\n",
       "Gujarat Lions                  15\n",
       "Kings XI Punjab                80\n",
       "Kochi Tuskers Kerala            8\n",
       "Kolkata Knight Riders          92\n",
       "Mumbai Indians                 98\n",
       "Pune Warriors                  20\n",
       "Rajasthan Royals               80\n",
       "Rising Pune Supergiant          6\n",
       "Rising Pune Supergiants         7\n",
       "Royal Challengers Bangalore    82\n",
       "Sunrisers Hyderabad            46\n",
       "no toss                         7\n",
       "Name: toss_winner, dtype: int64"
      ]
     },
     "execution_count": 137,
     "metadata": {},
     "output_type": "execute_result"
    }
   ],
   "source": [
    "toss_winner"
   ]
  },
  {
   "cell_type": "code",
   "execution_count": 138,
   "id": "4187af01-a22c-46d9-9ac1-9f097f7196cf",
   "metadata": {},
   "outputs": [],
   "source": [
    "percentage_winning_toss=(toss_winner/total_matches)*100"
   ]
  },
  {
   "cell_type": "code",
   "execution_count": 139,
   "id": "84a2d237-a239-4b4a-b390-d723a002e6e5",
   "metadata": {},
   "outputs": [
    {
     "data": {
      "text/plain": [
       "Chennai Super Kings            53.614458\n",
       "Deccan Chargers                56.578947\n",
       "Delhi Capitals                 50.561798\n",
       "Gujarat Lions                  50.000000\n",
       "Kings XI Punjab                45.714286\n",
       "Kochi Tuskers Kerala           57.142857\n",
       "Kolkata Knight Riders          50.828729\n",
       "Mumbai Indians                 52.127660\n",
       "Pune Warriors                  43.478261\n",
       "Rajasthan Royals               53.333333\n",
       "Rising Pune Supergiant         20.000000\n",
       "Rising Pune Supergiants              NaN\n",
       "Royal Challengers Bangalore    44.808743\n",
       "Sunrisers Hyderabad            42.201835\n",
       "no toss                              NaN\n",
       "dtype: float64"
      ]
     },
     "execution_count": 139,
     "metadata": {},
     "output_type": "execute_result"
    }
   ],
   "source": [
    "percentage_winning_toss"
   ]
  },
  {
   "cell_type": "code",
   "execution_count": 153,
   "id": "88c4808d-47e8-4261-9760-a5f5c957c75f",
   "metadata": {},
   "outputs": [],
   "source": [
    "match_winner=matches['Winner'].groupby(matches['Winner']).agg('count')"
   ]
  },
  {
   "cell_type": "code",
   "execution_count": 154,
   "id": "8995b458-f659-4293-a970-d44f3ae96106",
   "metadata": {},
   "outputs": [
    {
     "data": {
      "text/plain": [
       "Winner\n",
       "Chennai Super Kings            100\n",
       "Deccan Chargers                 29\n",
       "Delhi Capitals                  76\n",
       "Gujarat Lions                   13\n",
       "Kings XI Punjab                 80\n",
       "Kochi Tuskers Kerala             6\n",
       "Kolkata Knight Riders           91\n",
       "Match                            2\n",
       "Mumbai Indians                 107\n",
       "Pune Warriors                   12\n",
       "Rajasthan Royals                73\n",
       "Rising Pune Supergiant          15\n",
       "Royal Challengers Bangalore     83\n",
       "Sunrisers Hyderabad             57\n",
       "abandoned                        6\n",
       "no result                        5\n",
       "tied                             8\n",
       "Name: Winner, dtype: int64"
      ]
     },
     "execution_count": 154,
     "metadata": {},
     "output_type": "execute_result"
    }
   ],
   "source": [
    "match_winner"
   ]
  },
  {
   "cell_type": "code",
   "execution_count": 155,
   "id": "839ff544-2b50-48bc-82e5-a15beee0b069",
   "metadata": {},
   "outputs": [],
   "source": [
    "toss_match_winner=matches['Team 1'].groupby([matches['Winner'],matches['toss_winner']]).agg('count')"
   ]
  },
  {
   "cell_type": "code",
   "execution_count": 156,
   "id": "05870669-d10a-4c3c-b6c3-a35735e119da",
   "metadata": {},
   "outputs": [
    {
     "data": {
      "text/plain": [
       "Winner               toss_winner                \n",
       "Chennai Super Kings  Chennai Super Kings            57\n",
       "                     Deccan Chargers                 2\n",
       "                     Delhi Capitals                  7\n",
       "                     Kings XI Punjab                 3\n",
       "                     Kolkata Knight Riders           6\n",
       "                                                    ..\n",
       "tied                 Kings XI Punjab                 1\n",
       "                     Kolkata Knight Riders           1\n",
       "                     Mumbai Indians                  1\n",
       "                     Rajasthan Royals                1\n",
       "                     Royal Challengers Bangalore     2\n",
       "Name: Team 1, Length: 126, dtype: int64"
      ]
     },
     "execution_count": 156,
     "metadata": {},
     "output_type": "execute_result"
    }
   ],
   "source": [
    "#toss match winner\n",
    "toss_match_winner"
   ]
  },
  {
   "cell_type": "code",
   "execution_count": 157,
   "id": "30464144-3400-4a0c-bbab-2843472aafb9",
   "metadata": {},
   "outputs": [
    {
     "data": {
      "text/html": [
       "<div>\n",
       "<style scoped>\n",
       "    .dataframe tbody tr th:only-of-type {\n",
       "        vertical-align: middle;\n",
       "    }\n",
       "\n",
       "    .dataframe tbody tr th {\n",
       "        vertical-align: top;\n",
       "    }\n",
       "\n",
       "    .dataframe thead th {\n",
       "        text-align: right;\n",
       "    }\n",
       "</style>\n",
       "<table border=\"1\" class=\"dataframe\">\n",
       "  <thead>\n",
       "    <tr style=\"text-align: right;\">\n",
       "      <th></th>\n",
       "      <th>Winner</th>\n",
       "      <th>toss_winner</th>\n",
       "      <th>Team 1</th>\n",
       "    </tr>\n",
       "  </thead>\n",
       "  <tbody>\n",
       "    <tr>\n",
       "      <th>0</th>\n",
       "      <td>Chennai Super Kings</td>\n",
       "      <td>Chennai Super Kings</td>\n",
       "      <td>57</td>\n",
       "    </tr>\n",
       "    <tr>\n",
       "      <th>1</th>\n",
       "      <td>Chennai Super Kings</td>\n",
       "      <td>Deccan Chargers</td>\n",
       "      <td>2</td>\n",
       "    </tr>\n",
       "    <tr>\n",
       "      <th>2</th>\n",
       "      <td>Chennai Super Kings</td>\n",
       "      <td>Delhi Capitals</td>\n",
       "      <td>7</td>\n",
       "    </tr>\n",
       "    <tr>\n",
       "      <th>3</th>\n",
       "      <td>Chennai Super Kings</td>\n",
       "      <td>Kings XI Punjab</td>\n",
       "      <td>3</td>\n",
       "    </tr>\n",
       "    <tr>\n",
       "      <th>4</th>\n",
       "      <td>Chennai Super Kings</td>\n",
       "      <td>Kolkata Knight Riders</td>\n",
       "      <td>6</td>\n",
       "    </tr>\n",
       "    <tr>\n",
       "      <th>...</th>\n",
       "      <td>...</td>\n",
       "      <td>...</td>\n",
       "      <td>...</td>\n",
       "    </tr>\n",
       "    <tr>\n",
       "      <th>121</th>\n",
       "      <td>tied</td>\n",
       "      <td>Kings XI Punjab</td>\n",
       "      <td>1</td>\n",
       "    </tr>\n",
       "    <tr>\n",
       "      <th>122</th>\n",
       "      <td>tied</td>\n",
       "      <td>Kolkata Knight Riders</td>\n",
       "      <td>1</td>\n",
       "    </tr>\n",
       "    <tr>\n",
       "      <th>123</th>\n",
       "      <td>tied</td>\n",
       "      <td>Mumbai Indians</td>\n",
       "      <td>1</td>\n",
       "    </tr>\n",
       "    <tr>\n",
       "      <th>124</th>\n",
       "      <td>tied</td>\n",
       "      <td>Rajasthan Royals</td>\n",
       "      <td>1</td>\n",
       "    </tr>\n",
       "    <tr>\n",
       "      <th>125</th>\n",
       "      <td>tied</td>\n",
       "      <td>Royal Challengers Bangalore</td>\n",
       "      <td>2</td>\n",
       "    </tr>\n",
       "  </tbody>\n",
       "</table>\n",
       "<p>126 rows × 3 columns</p>\n",
       "</div>"
      ],
      "text/plain": [
       "                  Winner                  toss_winner  Team 1\n",
       "0    Chennai Super Kings          Chennai Super Kings      57\n",
       "1    Chennai Super Kings              Deccan Chargers       2\n",
       "2    Chennai Super Kings               Delhi Capitals       7\n",
       "3    Chennai Super Kings              Kings XI Punjab       3\n",
       "4    Chennai Super Kings        Kolkata Knight Riders       6\n",
       "..                   ...                          ...     ...\n",
       "121                 tied              Kings XI Punjab       1\n",
       "122                 tied        Kolkata Knight Riders       1\n",
       "123                 tied               Mumbai Indians       1\n",
       "124                 tied             Rajasthan Royals       1\n",
       "125                 tied  Royal Challengers Bangalore       2\n",
       "\n",
       "[126 rows x 3 columns]"
      ]
     },
     "execution_count": 157,
     "metadata": {},
     "output_type": "execute_result"
    }
   ],
   "source": [
    "temp=toss_match_winner.reset_index()\n",
    "temp"
   ]
  },
  {
   "cell_type": "code",
   "execution_count": 158,
   "id": "e1e38647-cdb1-4fa2-86f1-18c122ec3f02",
   "metadata": {},
   "outputs": [],
   "source": [
    "df=temp.loc[temp['Winner']==temp['toss_winner']]"
   ]
  },
  {
   "cell_type": "code",
   "execution_count": 163,
   "id": "8d312e69-e34f-49fc-9f6f-e787bf42e169",
   "metadata": {},
   "outputs": [
    {
     "name": "stdout",
     "output_type": "stream",
     "text": [
      "[89 43 90 15 80  8 92 98 20 80  6  7 82  7]\n"
     ]
    }
   ],
   "source": [
    "dif=toss_winner.to_numpy()\n",
    "#print(toss_winner)\n",
    "dif=np.delete(dif,13)\n",
    "print(dif)"
   ]
  },
  {
   "cell_type": "code",
   "execution_count": 162,
   "id": "08213382-3eba-4ff9-8147-dd3ed1c28ac5",
   "metadata": {},
   "outputs": [
    {
     "ename": "ValueError",
     "evalue": "Length of values (14) does not match length of index (13)",
     "output_type": "error",
     "traceback": [
      "\u001b[1;31m---------------------------------------------------------------------------\u001b[0m",
      "\u001b[1;31mValueError\u001b[0m                                Traceback (most recent call last)",
      "Cell \u001b[1;32mIn[162], line 1\u001b[0m\n\u001b[1;32m----> 1\u001b[0m \u001b[43mdf\u001b[49m\u001b[43m[\u001b[49m\u001b[38;5;124;43m'\u001b[39;49m\u001b[38;5;124;43mTeam\u001b[39;49m\u001b[38;5;124;43m'\u001b[39;49m\u001b[43m]\u001b[49m\u001b[38;5;241m=\u001b[39mdif\n",
      "File \u001b[1;32m~\\AppData\\Local\\Programs\\Python\\Python313\\Lib\\site-packages\\pandas\\core\\frame.py:4311\u001b[0m, in \u001b[0;36mDataFrame.__setitem__\u001b[1;34m(self, key, value)\u001b[0m\n\u001b[0;32m   4308\u001b[0m     \u001b[38;5;28mself\u001b[39m\u001b[38;5;241m.\u001b[39m_setitem_array([key], value)\n\u001b[0;32m   4309\u001b[0m \u001b[38;5;28;01melse\u001b[39;00m:\n\u001b[0;32m   4310\u001b[0m     \u001b[38;5;66;03m# set column\u001b[39;00m\n\u001b[1;32m-> 4311\u001b[0m     \u001b[38;5;28;43mself\u001b[39;49m\u001b[38;5;241;43m.\u001b[39;49m\u001b[43m_set_item\u001b[49m\u001b[43m(\u001b[49m\u001b[43mkey\u001b[49m\u001b[43m,\u001b[49m\u001b[43m \u001b[49m\u001b[43mvalue\u001b[49m\u001b[43m)\u001b[49m\n",
      "File \u001b[1;32m~\\AppData\\Local\\Programs\\Python\\Python313\\Lib\\site-packages\\pandas\\core\\frame.py:4524\u001b[0m, in \u001b[0;36mDataFrame._set_item\u001b[1;34m(self, key, value)\u001b[0m\n\u001b[0;32m   4514\u001b[0m \u001b[38;5;28;01mdef\u001b[39;00m\u001b[38;5;250m \u001b[39m\u001b[38;5;21m_set_item\u001b[39m(\u001b[38;5;28mself\u001b[39m, key, value) \u001b[38;5;241m-\u001b[39m\u001b[38;5;241m>\u001b[39m \u001b[38;5;28;01mNone\u001b[39;00m:\n\u001b[0;32m   4515\u001b[0m \u001b[38;5;250m    \u001b[39m\u001b[38;5;124;03m\"\"\"\u001b[39;00m\n\u001b[0;32m   4516\u001b[0m \u001b[38;5;124;03m    Add series to DataFrame in specified column.\u001b[39;00m\n\u001b[0;32m   4517\u001b[0m \n\u001b[1;32m   (...)\u001b[0m\n\u001b[0;32m   4522\u001b[0m \u001b[38;5;124;03m    ensure homogeneity.\u001b[39;00m\n\u001b[0;32m   4523\u001b[0m \u001b[38;5;124;03m    \"\"\"\u001b[39;00m\n\u001b[1;32m-> 4524\u001b[0m     value, refs \u001b[38;5;241m=\u001b[39m \u001b[38;5;28;43mself\u001b[39;49m\u001b[38;5;241;43m.\u001b[39;49m\u001b[43m_sanitize_column\u001b[49m\u001b[43m(\u001b[49m\u001b[43mvalue\u001b[49m\u001b[43m)\u001b[49m\n\u001b[0;32m   4526\u001b[0m     \u001b[38;5;28;01mif\u001b[39;00m (\n\u001b[0;32m   4527\u001b[0m         key \u001b[38;5;129;01min\u001b[39;00m \u001b[38;5;28mself\u001b[39m\u001b[38;5;241m.\u001b[39mcolumns\n\u001b[0;32m   4528\u001b[0m         \u001b[38;5;129;01mand\u001b[39;00m value\u001b[38;5;241m.\u001b[39mndim \u001b[38;5;241m==\u001b[39m \u001b[38;5;241m1\u001b[39m\n\u001b[0;32m   4529\u001b[0m         \u001b[38;5;129;01mand\u001b[39;00m \u001b[38;5;129;01mnot\u001b[39;00m \u001b[38;5;28misinstance\u001b[39m(value\u001b[38;5;241m.\u001b[39mdtype, ExtensionDtype)\n\u001b[0;32m   4530\u001b[0m     ):\n\u001b[0;32m   4531\u001b[0m         \u001b[38;5;66;03m# broadcast across multiple columns if necessary\u001b[39;00m\n\u001b[0;32m   4532\u001b[0m         \u001b[38;5;28;01mif\u001b[39;00m \u001b[38;5;129;01mnot\u001b[39;00m \u001b[38;5;28mself\u001b[39m\u001b[38;5;241m.\u001b[39mcolumns\u001b[38;5;241m.\u001b[39mis_unique \u001b[38;5;129;01mor\u001b[39;00m \u001b[38;5;28misinstance\u001b[39m(\u001b[38;5;28mself\u001b[39m\u001b[38;5;241m.\u001b[39mcolumns, MultiIndex):\n",
      "File \u001b[1;32m~\\AppData\\Local\\Programs\\Python\\Python313\\Lib\\site-packages\\pandas\\core\\frame.py:5266\u001b[0m, in \u001b[0;36mDataFrame._sanitize_column\u001b[1;34m(self, value)\u001b[0m\n\u001b[0;32m   5263\u001b[0m     \u001b[38;5;28;01mreturn\u001b[39;00m _reindex_for_setitem(value, \u001b[38;5;28mself\u001b[39m\u001b[38;5;241m.\u001b[39mindex)\n\u001b[0;32m   5265\u001b[0m \u001b[38;5;28;01mif\u001b[39;00m is_list_like(value):\n\u001b[1;32m-> 5266\u001b[0m     \u001b[43mcom\u001b[49m\u001b[38;5;241;43m.\u001b[39;49m\u001b[43mrequire_length_match\u001b[49m\u001b[43m(\u001b[49m\u001b[43mvalue\u001b[49m\u001b[43m,\u001b[49m\u001b[43m \u001b[49m\u001b[38;5;28;43mself\u001b[39;49m\u001b[38;5;241;43m.\u001b[39;49m\u001b[43mindex\u001b[49m\u001b[43m)\u001b[49m\n\u001b[0;32m   5267\u001b[0m arr \u001b[38;5;241m=\u001b[39m sanitize_array(value, \u001b[38;5;28mself\u001b[39m\u001b[38;5;241m.\u001b[39mindex, copy\u001b[38;5;241m=\u001b[39m\u001b[38;5;28;01mTrue\u001b[39;00m, allow_2d\u001b[38;5;241m=\u001b[39m\u001b[38;5;28;01mTrue\u001b[39;00m)\n\u001b[0;32m   5268\u001b[0m \u001b[38;5;28;01mif\u001b[39;00m (\n\u001b[0;32m   5269\u001b[0m     \u001b[38;5;28misinstance\u001b[39m(value, Index)\n\u001b[0;32m   5270\u001b[0m     \u001b[38;5;129;01mand\u001b[39;00m value\u001b[38;5;241m.\u001b[39mdtype \u001b[38;5;241m==\u001b[39m \u001b[38;5;124m\"\u001b[39m\u001b[38;5;124mobject\u001b[39m\u001b[38;5;124m\"\u001b[39m\n\u001b[1;32m   (...)\u001b[0m\n\u001b[0;32m   5273\u001b[0m     \u001b[38;5;66;03m# TODO: Remove kludge in sanitize_array for string mode when enforcing\u001b[39;00m\n\u001b[0;32m   5274\u001b[0m     \u001b[38;5;66;03m# this deprecation\u001b[39;00m\n",
      "File \u001b[1;32m~\\AppData\\Local\\Programs\\Python\\Python313\\Lib\\site-packages\\pandas\\core\\common.py:573\u001b[0m, in \u001b[0;36mrequire_length_match\u001b[1;34m(data, index)\u001b[0m\n\u001b[0;32m    569\u001b[0m \u001b[38;5;250m\u001b[39m\u001b[38;5;124;03m\"\"\"\u001b[39;00m\n\u001b[0;32m    570\u001b[0m \u001b[38;5;124;03mCheck the length of data matches the length of the index.\u001b[39;00m\n\u001b[0;32m    571\u001b[0m \u001b[38;5;124;03m\"\"\"\u001b[39;00m\n\u001b[0;32m    572\u001b[0m \u001b[38;5;28;01mif\u001b[39;00m \u001b[38;5;28mlen\u001b[39m(data) \u001b[38;5;241m!=\u001b[39m \u001b[38;5;28mlen\u001b[39m(index):\n\u001b[1;32m--> 573\u001b[0m     \u001b[38;5;28;01mraise\u001b[39;00m \u001b[38;5;167;01mValueError\u001b[39;00m(\n\u001b[0;32m    574\u001b[0m         \u001b[38;5;124m\"\u001b[39m\u001b[38;5;124mLength of values \u001b[39m\u001b[38;5;124m\"\u001b[39m\n\u001b[0;32m    575\u001b[0m         \u001b[38;5;124mf\u001b[39m\u001b[38;5;124m\"\u001b[39m\u001b[38;5;124m(\u001b[39m\u001b[38;5;132;01m{\u001b[39;00m\u001b[38;5;28mlen\u001b[39m(data)\u001b[38;5;132;01m}\u001b[39;00m\u001b[38;5;124m) \u001b[39m\u001b[38;5;124m\"\u001b[39m\n\u001b[0;32m    576\u001b[0m         \u001b[38;5;124m\"\u001b[39m\u001b[38;5;124mdoes not match length of index \u001b[39m\u001b[38;5;124m\"\u001b[39m\n\u001b[0;32m    577\u001b[0m         \u001b[38;5;124mf\u001b[39m\u001b[38;5;124m\"\u001b[39m\u001b[38;5;124m(\u001b[39m\u001b[38;5;132;01m{\u001b[39;00m\u001b[38;5;28mlen\u001b[39m(index)\u001b[38;5;132;01m}\u001b[39;00m\u001b[38;5;124m)\u001b[39m\u001b[38;5;124m\"\u001b[39m\n\u001b[0;32m    578\u001b[0m     )\n",
      "\u001b[1;31mValueError\u001b[0m: Length of values (14) does not match length of index (13)"
     ]
    }
   ],
   "source": [
    "df['Team']=dif"
   ]
  },
  {
   "cell_type": "code",
   "execution_count": 151,
   "id": "97d602b3-04ad-4571-bbd6-5bdd6de7f1ce",
   "metadata": {},
   "outputs": [],
   "source": [
    "df=df.drop(columns=['Winner'])"
   ]
  },
  {
   "cell_type": "code",
   "execution_count": 152,
   "id": "e6314d1f-8089-4264-ac87-3e04df8c9680",
   "metadata": {},
   "outputs": [
    {
     "ename": "ValueError",
     "evalue": "Length mismatch: Expected axis has 2 elements, new values have 3 elements",
     "output_type": "error",
     "traceback": [
      "\u001b[1;31m---------------------------------------------------------------------------\u001b[0m",
      "\u001b[1;31mValueError\u001b[0m                                Traceback (most recent call last)",
      "Cell \u001b[1;32mIn[152], line 1\u001b[0m\n\u001b[1;32m----> 1\u001b[0m \u001b[43mdf\u001b[49m\u001b[38;5;241;43m.\u001b[39;49m\u001b[43mcolumns\u001b[49m\u001b[38;5;241m=\u001b[39m[\u001b[38;5;124m'\u001b[39m\u001b[38;5;124mTeam\u001b[39m\u001b[38;5;124m'\u001b[39m,\u001b[38;5;124m'\u001b[39m\u001b[38;5;124mWin+Toss\u001b[39m\u001b[38;5;124m'\u001b[39m,\u001b[38;5;124m'\u001b[39m\u001b[38;5;124mToss\u001b[39m\u001b[38;5;124m'\u001b[39m]\n",
      "File \u001b[1;32m~\\AppData\\Local\\Programs\\Python\\Python313\\Lib\\site-packages\\pandas\\core\\generic.py:6313\u001b[0m, in \u001b[0;36mNDFrame.__setattr__\u001b[1;34m(self, name, value)\u001b[0m\n\u001b[0;32m   6311\u001b[0m \u001b[38;5;28;01mtry\u001b[39;00m:\n\u001b[0;32m   6312\u001b[0m     \u001b[38;5;28mobject\u001b[39m\u001b[38;5;241m.\u001b[39m\u001b[38;5;21m__getattribute__\u001b[39m(\u001b[38;5;28mself\u001b[39m, name)\n\u001b[1;32m-> 6313\u001b[0m     \u001b[38;5;28;01mreturn\u001b[39;00m \u001b[38;5;28;43mobject\u001b[39;49m\u001b[38;5;241;43m.\u001b[39;49m\u001b[38;5;21;43m__setattr__\u001b[39;49m\u001b[43m(\u001b[49m\u001b[38;5;28;43mself\u001b[39;49m\u001b[43m,\u001b[49m\u001b[43m \u001b[49m\u001b[43mname\u001b[49m\u001b[43m,\u001b[49m\u001b[43m \u001b[49m\u001b[43mvalue\u001b[49m\u001b[43m)\u001b[49m\n\u001b[0;32m   6314\u001b[0m \u001b[38;5;28;01mexcept\u001b[39;00m \u001b[38;5;167;01mAttributeError\u001b[39;00m:\n\u001b[0;32m   6315\u001b[0m     \u001b[38;5;28;01mpass\u001b[39;00m\n",
      "File \u001b[1;32mproperties.pyx:69\u001b[0m, in \u001b[0;36mpandas._libs.properties.AxisProperty.__set__\u001b[1;34m()\u001b[0m\n",
      "File \u001b[1;32m~\\AppData\\Local\\Programs\\Python\\Python313\\Lib\\site-packages\\pandas\\core\\generic.py:814\u001b[0m, in \u001b[0;36mNDFrame._set_axis\u001b[1;34m(self, axis, labels)\u001b[0m\n\u001b[0;32m    809\u001b[0m \u001b[38;5;250m\u001b[39m\u001b[38;5;124;03m\"\"\"\u001b[39;00m\n\u001b[0;32m    810\u001b[0m \u001b[38;5;124;03mThis is called from the cython code when we set the `index` attribute\u001b[39;00m\n\u001b[0;32m    811\u001b[0m \u001b[38;5;124;03mdirectly, e.g. `series.index = [1, 2, 3]`.\u001b[39;00m\n\u001b[0;32m    812\u001b[0m \u001b[38;5;124;03m\"\"\"\u001b[39;00m\n\u001b[0;32m    813\u001b[0m labels \u001b[38;5;241m=\u001b[39m ensure_index(labels)\n\u001b[1;32m--> 814\u001b[0m \u001b[38;5;28;43mself\u001b[39;49m\u001b[38;5;241;43m.\u001b[39;49m\u001b[43m_mgr\u001b[49m\u001b[38;5;241;43m.\u001b[39;49m\u001b[43mset_axis\u001b[49m\u001b[43m(\u001b[49m\u001b[43maxis\u001b[49m\u001b[43m,\u001b[49m\u001b[43m \u001b[49m\u001b[43mlabels\u001b[49m\u001b[43m)\u001b[49m\n\u001b[0;32m    815\u001b[0m \u001b[38;5;28mself\u001b[39m\u001b[38;5;241m.\u001b[39m_clear_item_cache()\n",
      "File \u001b[1;32m~\\AppData\\Local\\Programs\\Python\\Python313\\Lib\\site-packages\\pandas\\core\\internals\\managers.py:238\u001b[0m, in \u001b[0;36mBaseBlockManager.set_axis\u001b[1;34m(self, axis, new_labels)\u001b[0m\n\u001b[0;32m    236\u001b[0m \u001b[38;5;28;01mdef\u001b[39;00m\u001b[38;5;250m \u001b[39m\u001b[38;5;21mset_axis\u001b[39m(\u001b[38;5;28mself\u001b[39m, axis: AxisInt, new_labels: Index) \u001b[38;5;241m-\u001b[39m\u001b[38;5;241m>\u001b[39m \u001b[38;5;28;01mNone\u001b[39;00m:\n\u001b[0;32m    237\u001b[0m     \u001b[38;5;66;03m# Caller is responsible for ensuring we have an Index object.\u001b[39;00m\n\u001b[1;32m--> 238\u001b[0m     \u001b[38;5;28;43mself\u001b[39;49m\u001b[38;5;241;43m.\u001b[39;49m\u001b[43m_validate_set_axis\u001b[49m\u001b[43m(\u001b[49m\u001b[43maxis\u001b[49m\u001b[43m,\u001b[49m\u001b[43m \u001b[49m\u001b[43mnew_labels\u001b[49m\u001b[43m)\u001b[49m\n\u001b[0;32m    239\u001b[0m     \u001b[38;5;28mself\u001b[39m\u001b[38;5;241m.\u001b[39maxes[axis] \u001b[38;5;241m=\u001b[39m new_labels\n",
      "File \u001b[1;32m~\\AppData\\Local\\Programs\\Python\\Python313\\Lib\\site-packages\\pandas\\core\\internals\\base.py:98\u001b[0m, in \u001b[0;36mDataManager._validate_set_axis\u001b[1;34m(self, axis, new_labels)\u001b[0m\n\u001b[0;32m     95\u001b[0m     \u001b[38;5;28;01mpass\u001b[39;00m\n\u001b[0;32m     97\u001b[0m \u001b[38;5;28;01melif\u001b[39;00m new_len \u001b[38;5;241m!=\u001b[39m old_len:\n\u001b[1;32m---> 98\u001b[0m     \u001b[38;5;28;01mraise\u001b[39;00m \u001b[38;5;167;01mValueError\u001b[39;00m(\n\u001b[0;32m     99\u001b[0m         \u001b[38;5;124mf\u001b[39m\u001b[38;5;124m\"\u001b[39m\u001b[38;5;124mLength mismatch: Expected axis has \u001b[39m\u001b[38;5;132;01m{\u001b[39;00mold_len\u001b[38;5;132;01m}\u001b[39;00m\u001b[38;5;124m elements, new \u001b[39m\u001b[38;5;124m\"\u001b[39m\n\u001b[0;32m    100\u001b[0m         \u001b[38;5;124mf\u001b[39m\u001b[38;5;124m\"\u001b[39m\u001b[38;5;124mvalues have \u001b[39m\u001b[38;5;132;01m{\u001b[39;00mnew_len\u001b[38;5;132;01m}\u001b[39;00m\u001b[38;5;124m elements\u001b[39m\u001b[38;5;124m\"\u001b[39m\n\u001b[0;32m    101\u001b[0m     )\n",
      "\u001b[1;31mValueError\u001b[0m: Length mismatch: Expected axis has 2 elements, new values have 3 elements"
     ]
    }
   ],
   "source": [
    "df.columns=['Team','Win+Toss','Toss']"
   ]
  },
  {
   "cell_type": "code",
   "execution_count": 38,
   "id": "ffd5f92c-aa58-4584-9786-009a99a4bed8",
   "metadata": {},
   "outputs": [],
   "source": [
    "tem= percentage_winning_toss.to_numpy()"
   ]
  },
  {
   "cell_type": "code",
   "execution_count": 39,
   "id": "6b04fa8a-fb95-4c22-8c29-469b3b81f880",
   "metadata": {},
   "outputs": [],
   "source": [
    "df['%(win+toss)']=(df['Win+Toss']/df['Toss'])*100"
   ]
  },
  {
   "cell_type": "code",
   "execution_count": 40,
   "id": "9b940743-193f-4e9a-9655-8428ef1644b1",
   "metadata": {},
   "outputs": [],
   "source": [
    "tem=percentage_winning_toss.to_numpy()\n",
    "toss=np.delete(tem,13)"
   ]
  },
  {
   "cell_type": "code",
   "execution_count": 41,
   "id": "3e0215ac-666a-4592-a7bb-74dd6bbee223",
   "metadata": {},
   "outputs": [],
   "source": [
    "df['%total_matches']=total_matches.to_numpy()"
   ]
  },
  {
   "cell_type": "code",
   "execution_count": 42,
   "id": "46290586-1dcb-430e-b6a1-6c8aad227c08",
   "metadata": {},
   "outputs": [],
   "source": [
    "df['%(win+toss)']=(df['Win+Toss']/df['Toss'])*100"
   ]
  },
  {
   "cell_type": "code",
   "execution_count": 43,
   "id": "6ce4c3ae-b77b-43f4-94c2-5ba2f0472608",
   "metadata": {},
   "outputs": [
    {
     "data": {
      "text/html": [
       "<div>\n",
       "<style scoped>\n",
       "    .dataframe tbody tr th:only-of-type {\n",
       "        vertical-align: middle;\n",
       "    }\n",
       "\n",
       "    .dataframe tbody tr th {\n",
       "        vertical-align: top;\n",
       "    }\n",
       "\n",
       "    .dataframe thead th {\n",
       "        text-align: right;\n",
       "    }\n",
       "</style>\n",
       "<table border=\"1\" class=\"dataframe\">\n",
       "  <thead>\n",
       "    <tr style=\"text-align: right;\">\n",
       "      <th></th>\n",
       "      <th>Team</th>\n",
       "      <th>Win+Toss</th>\n",
       "      <th>Toss</th>\n",
       "      <th>%(win+toss)</th>\n",
       "      <th>%total_matches</th>\n",
       "    </tr>\n",
       "  </thead>\n",
       "  <tbody>\n",
       "    <tr>\n",
       "      <th>0</th>\n",
       "      <td>Chennai Super Kings</td>\n",
       "      <td>57</td>\n",
       "      <td>89</td>\n",
       "      <td>64.044944</td>\n",
       "      <td>166</td>\n",
       "    </tr>\n",
       "    <tr>\n",
       "      <th>11</th>\n",
       "      <td>Deccan Chargers</td>\n",
       "      <td>19</td>\n",
       "      <td>43</td>\n",
       "      <td>44.186047</td>\n",
       "      <td>76</td>\n",
       "    </tr>\n",
       "    <tr>\n",
       "      <th>19</th>\n",
       "      <td>Delhi Capitals</td>\n",
       "      <td>41</td>\n",
       "      <td>90</td>\n",
       "      <td>45.555556</td>\n",
       "      <td>178</td>\n",
       "    </tr>\n",
       "    <tr>\n",
       "      <th>29</th>\n",
       "      <td>Gujarat Lions</td>\n",
       "      <td>10</td>\n",
       "      <td>15</td>\n",
       "      <td>66.666667</td>\n",
       "      <td>30</td>\n",
       "    </tr>\n",
       "    <tr>\n",
       "      <th>36</th>\n",
       "      <td>Kings XI Punjab</td>\n",
       "      <td>34</td>\n",
       "      <td>80</td>\n",
       "      <td>42.500000</td>\n",
       "      <td>175</td>\n",
       "    </tr>\n",
       "  </tbody>\n",
       "</table>\n",
       "</div>"
      ],
      "text/plain": [
       "                   Team  Win+Toss  Toss  %(win+toss)  %total_matches\n",
       "0   Chennai Super Kings        57    89    64.044944             166\n",
       "11      Deccan Chargers        19    43    44.186047              76\n",
       "19       Delhi Capitals        41    90    45.555556             178\n",
       "29        Gujarat Lions        10    15    66.666667              30\n",
       "36      Kings XI Punjab        34    80    42.500000             175"
      ]
     },
     "execution_count": 43,
     "metadata": {},
     "output_type": "execute_result"
    }
   ],
   "source": [
    "df.head()"
   ]
  },
  {
   "cell_type": "code",
   "execution_count": null,
   "id": "e02aaf3d-c34c-4d1a-ab47-d712808f1b4f",
   "metadata": {},
   "outputs": [],
   "source": []
  },
  {
   "cell_type": "code",
   "execution_count": 67,
   "id": "f42cc2e3-34c7-4bac-af53-7bffd82d39ab",
   "metadata": {},
   "outputs": [
    {
     "name": "stderr",
     "output_type": "stream",
     "text": [
      "C:\\Users\\aarti\\AppData\\Local\\Temp\\ipykernel_12544\\1102918868.py:2: UserWarning: set_ticklabels() should only be used with a fixed number of ticks, i.e. after set_ticks() or using a FixedLocator.\n",
      "  ax=sns.barplot(x=df['Team'],y=df['Win+Toss']).set_xticklabels(df['Team'],rotation=90)\n"
     ]
    },
    {
     "data": {
      "image/png": "[encoded data removed]",
      "text/plain": [
       "<Figure size 640x480 with 1 Axes>"
      ]
     },
     "metadata": {},
     "output_type": "display_data"
    }
   ],
   "source": [
    "#plot a graph\n",
    "ax=sns.barplot(x=df['Team'],y=df['Win+Toss']).set_xticklabels(df['Team'],rotation=90)"
   ]
  },
  {
   "cell_type": "code",
   "execution_count": 112,
   "id": "b09dc9f6-5424-4295-9aa1-49e8c8a060b9",
   "metadata": {},
   "outputs": [
    {
     "ename": "KeyError",
     "evalue": "'Team'",
     "output_type": "error",
     "traceback": [
      "\u001b[1;31m---------------------------------------------------------------------------\u001b[0m",
      "\u001b[1;31mKeyError\u001b[0m                                  Traceback (most recent call last)",
      "File \u001b[1;32m~\\AppData\\Local\\Programs\\Python\\Python313\\Lib\\site-packages\\pandas\\core\\indexes\\base.py:3805\u001b[0m, in \u001b[0;36mIndex.get_loc\u001b[1;34m(self, key)\u001b[0m\n\u001b[0;32m   3804\u001b[0m \u001b[38;5;28;01mtry\u001b[39;00m:\n\u001b[1;32m-> 3805\u001b[0m     \u001b[38;5;28;01mreturn\u001b[39;00m \u001b[38;5;28;43mself\u001b[39;49m\u001b[38;5;241;43m.\u001b[39;49m\u001b[43m_engine\u001b[49m\u001b[38;5;241;43m.\u001b[39;49m\u001b[43mget_loc\u001b[49m\u001b[43m(\u001b[49m\u001b[43mcasted_key\u001b[49m\u001b[43m)\u001b[49m\n\u001b[0;32m   3806\u001b[0m \u001b[38;5;28;01mexcept\u001b[39;00m \u001b[38;5;167;01mKeyError\u001b[39;00m \u001b[38;5;28;01mas\u001b[39;00m err:\n",
      "File \u001b[1;32mindex.pyx:167\u001b[0m, in \u001b[0;36mpandas._libs.index.IndexEngine.get_loc\u001b[1;34m()\u001b[0m\n",
      "File \u001b[1;32mindex.pyx:196\u001b[0m, in \u001b[0;36mpandas._libs.index.IndexEngine.get_loc\u001b[1;34m()\u001b[0m\n",
      "File \u001b[1;32mpandas\\\\_libs\\\\hashtable_class_helper.pxi:7081\u001b[0m, in \u001b[0;36mpandas._libs.hashtable.PyObjectHashTable.get_item\u001b[1;34m()\u001b[0m\n",
      "File \u001b[1;32mpandas\\\\_libs\\\\hashtable_class_helper.pxi:7089\u001b[0m, in \u001b[0;36mpandas._libs.hashtable.PyObjectHashTable.get_item\u001b[1;34m()\u001b[0m\n",
      "\u001b[1;31mKeyError\u001b[0m: 'Team'",
      "\nThe above exception was the direct cause of the following exception:\n",
      "\u001b[1;31mKeyError\u001b[0m                                  Traceback (most recent call last)",
      "Cell \u001b[1;32mIn[112], line 3\u001b[0m\n\u001b[0;32m      1\u001b[0m \u001b[38;5;66;03m#plot a graph\u001b[39;00m\n\u001b[0;32m      2\u001b[0m ax\u001b[38;5;241m=\u001b[39msns\u001b[38;5;241m.\u001b[39mbarplot(\n\u001b[1;32m----> 3\u001b[0m     x\u001b[38;5;241m=\u001b[39m\u001b[43mdf\u001b[49m\u001b[43m[\u001b[49m\u001b[38;5;124;43m'\u001b[39;49m\u001b[38;5;124;43mTeam\u001b[39;49m\u001b[38;5;124;43m'\u001b[39;49m\u001b[43m]\u001b[49m,\n\u001b[0;32m      4\u001b[0m     y\u001b[38;5;241m=\u001b[39mdf[\u001b[38;5;124m'\u001b[39m\u001b[38;5;124mWin+Toss\u001b[39m\u001b[38;5;124m'\u001b[39m],\n\u001b[0;32m      5\u001b[0m     linewidth\u001b[38;5;241m=\u001b[39m\u001b[38;5;241m1\u001b[39m ,edgecolor\u001b[38;5;241m=\u001b[39m\u001b[38;5;124m'\u001b[39m\u001b[38;5;124mred\u001b[39m\u001b[38;5;124m'\u001b[39m,\n\u001b[0;32m      6\u001b[0m     palette\u001b[38;5;241m=\u001b[39m\u001b[38;5;124m\"\u001b[39m\u001b[38;5;124mmagma\u001b[39m\u001b[38;5;124m\"\u001b[39m  \u001b[38;5;66;03m# Try \"coolwarm\", \"plasma\", \"magma\", etc.\u001b[39;00m\n\u001b[0;32m      7\u001b[0m )\n",
      "File \u001b[1;32m~\\AppData\\Local\\Programs\\Python\\Python313\\Lib\\site-packages\\pandas\\core\\frame.py:4102\u001b[0m, in \u001b[0;36mDataFrame.__getitem__\u001b[1;34m(self, key)\u001b[0m\n\u001b[0;32m   4100\u001b[0m \u001b[38;5;28;01mif\u001b[39;00m \u001b[38;5;28mself\u001b[39m\u001b[38;5;241m.\u001b[39mcolumns\u001b[38;5;241m.\u001b[39mnlevels \u001b[38;5;241m>\u001b[39m \u001b[38;5;241m1\u001b[39m:\n\u001b[0;32m   4101\u001b[0m     \u001b[38;5;28;01mreturn\u001b[39;00m \u001b[38;5;28mself\u001b[39m\u001b[38;5;241m.\u001b[39m_getitem_multilevel(key)\n\u001b[1;32m-> 4102\u001b[0m indexer \u001b[38;5;241m=\u001b[39m \u001b[38;5;28;43mself\u001b[39;49m\u001b[38;5;241;43m.\u001b[39;49m\u001b[43mcolumns\u001b[49m\u001b[38;5;241;43m.\u001b[39;49m\u001b[43mget_loc\u001b[49m\u001b[43m(\u001b[49m\u001b[43mkey\u001b[49m\u001b[43m)\u001b[49m\n\u001b[0;32m   4103\u001b[0m \u001b[38;5;28;01mif\u001b[39;00m is_integer(indexer):\n\u001b[0;32m   4104\u001b[0m     indexer \u001b[38;5;241m=\u001b[39m [indexer]\n",
      "File \u001b[1;32m~\\AppData\\Local\\Programs\\Python\\Python313\\Lib\\site-packages\\pandas\\core\\indexes\\base.py:3812\u001b[0m, in \u001b[0;36mIndex.get_loc\u001b[1;34m(self, key)\u001b[0m\n\u001b[0;32m   3807\u001b[0m     \u001b[38;5;28;01mif\u001b[39;00m \u001b[38;5;28misinstance\u001b[39m(casted_key, \u001b[38;5;28mslice\u001b[39m) \u001b[38;5;129;01mor\u001b[39;00m (\n\u001b[0;32m   3808\u001b[0m         \u001b[38;5;28misinstance\u001b[39m(casted_key, abc\u001b[38;5;241m.\u001b[39mIterable)\n\u001b[0;32m   3809\u001b[0m         \u001b[38;5;129;01mand\u001b[39;00m \u001b[38;5;28many\u001b[39m(\u001b[38;5;28misinstance\u001b[39m(x, \u001b[38;5;28mslice\u001b[39m) \u001b[38;5;28;01mfor\u001b[39;00m x \u001b[38;5;129;01min\u001b[39;00m casted_key)\n\u001b[0;32m   3810\u001b[0m     ):\n\u001b[0;32m   3811\u001b[0m         \u001b[38;5;28;01mraise\u001b[39;00m InvalidIndexError(key)\n\u001b[1;32m-> 3812\u001b[0m     \u001b[38;5;28;01mraise\u001b[39;00m \u001b[38;5;167;01mKeyError\u001b[39;00m(key) \u001b[38;5;28;01mfrom\u001b[39;00m\u001b[38;5;250m \u001b[39m\u001b[38;5;21;01merr\u001b[39;00m\n\u001b[0;32m   3813\u001b[0m \u001b[38;5;28;01mexcept\u001b[39;00m \u001b[38;5;167;01mTypeError\u001b[39;00m:\n\u001b[0;32m   3814\u001b[0m     \u001b[38;5;66;03m# If we have a listlike key, _check_indexing_error will raise\u001b[39;00m\n\u001b[0;32m   3815\u001b[0m     \u001b[38;5;66;03m#  InvalidIndexError. Otherwise we fall through and re-raise\u001b[39;00m\n\u001b[0;32m   3816\u001b[0m     \u001b[38;5;66;03m#  the TypeError.\u001b[39;00m\n\u001b[0;32m   3817\u001b[0m     \u001b[38;5;28mself\u001b[39m\u001b[38;5;241m.\u001b[39m_check_indexing_error(key)\n",
      "\u001b[1;31mKeyError\u001b[0m: 'Team'"
     ]
    }
   ],
   "source": [
    "#plot a graph\n",
    "ax=sns.barplot(\n",
    "    x=df['Team'],\n",
    "    y=df['Win+Toss'],\n",
    "    linewidth=1 ,edgecolor='red',\n",
    "    palette=\"magma\"  # Try \"coolwarm\", \"plasma\", \"magma\", etc.\n",
    ")"
   ]
  },
  {
   "cell_type": "code",
   "execution_count": 84,
   "id": "bd759b36-7041-49dc-989b-3edb21196a07",
   "metadata": {},
   "outputs": [],
   "source": [
    "batsman= batting['R'].groupby(batting['batsmen']).sum()"
   ]
  },
  {
   "cell_type": "code",
   "execution_count": 85,
   "id": "a9a759fb-0cdb-40cb-b725-16cd0714c8e6",
   "metadata": {},
   "outputs": [],
   "source": [
    "batsman=batsmen.reset_index()"
   ]
  },
  {
   "cell_type": "code",
   "execution_count": 87,
   "id": "952538b0-f54e-4dcd-bbf4-613b44001664",
   "metadata": {},
   "outputs": [],
   "source": [
    "batsman.sort_values(['R'],axis=0,ascending=False,inplace=True)"
   ]
  },
  {
   "cell_type": "code",
   "execution_count": 89,
   "id": "c8148350-dad1-45f9-8023-85cf03f55071",
   "metadata": {},
   "outputs": [
    {
     "data": {
      "text/html": [
       "<div>\n",
       "<style scoped>\n",
       "    .dataframe tbody tr th:only-of-type {\n",
       "        vertical-align: middle;\n",
       "    }\n",
       "\n",
       "    .dataframe tbody tr th {\n",
       "        vertical-align: top;\n",
       "    }\n",
       "\n",
       "    .dataframe thead th {\n",
       "        text-align: right;\n",
       "    }\n",
       "</style>\n",
       "<table border=\"1\" class=\"dataframe\">\n",
       "  <thead>\n",
       "    <tr style=\"text-align: right;\">\n",
       "      <th></th>\n",
       "      <th>batsmen</th>\n",
       "      <th>R</th>\n",
       "    </tr>\n",
       "  </thead>\n",
       "  <tbody>\n",
       "    <tr>\n",
       "      <th>487</th>\n",
       "      <td>V Kohli</td>\n",
       "      <td>5412.0</td>\n",
       "    </tr>\n",
       "    <tr>\n",
       "      <th>424</th>\n",
       "      <td>SK Raina</td>\n",
       "      <td>5368.0</td>\n",
       "    </tr>\n",
       "    <tr>\n",
       "      <th>366</th>\n",
       "      <td>RG Sharma</td>\n",
       "      <td>4898.0</td>\n",
       "    </tr>\n",
       "    <tr>\n",
       "      <th>113</th>\n",
       "      <td>DA Warner</td>\n",
       "      <td>4706.0</td>\n",
       "    </tr>\n",
       "    <tr>\n",
       "      <th>393</th>\n",
       "      <td>S Dhawan</td>\n",
       "      <td>4579.0</td>\n",
       "    </tr>\n",
       "    <tr>\n",
       "      <th>95</th>\n",
       "      <td>CH Gayle</td>\n",
       "      <td>4484.0</td>\n",
       "    </tr>\n",
       "    <tr>\n",
       "      <th>292</th>\n",
       "      <td>MS Dhoni</td>\n",
       "      <td>4432.0</td>\n",
       "    </tr>\n",
       "    <tr>\n",
       "      <th>385</th>\n",
       "      <td>RV Uthappa</td>\n",
       "      <td>4411.0</td>\n",
       "    </tr>\n",
       "    <tr>\n",
       "      <th>24</th>\n",
       "      <td>AB de Villiers</td>\n",
       "      <td>4395.0</td>\n",
       "    </tr>\n",
       "    <tr>\n",
       "      <th>150</th>\n",
       "      <td>G Gambhir</td>\n",
       "      <td>4217.0</td>\n",
       "    </tr>\n",
       "  </tbody>\n",
       "</table>\n",
       "</div>"
      ],
      "text/plain": [
       "            batsmen       R\n",
       "487         V Kohli  5412.0\n",
       "424        SK Raina  5368.0\n",
       "366       RG Sharma  4898.0\n",
       "113       DA Warner  4706.0\n",
       "393        S Dhawan  4579.0\n",
       "95         CH Gayle  4484.0\n",
       "292        MS Dhoni  4432.0\n",
       "385      RV Uthappa  4411.0\n",
       "24   AB de Villiers  4395.0\n",
       "150       G Gambhir  4217.0"
      ]
     },
     "execution_count": 89,
     "metadata": {},
     "output_type": "execute_result"
    }
   ],
   "source": [
    "batsman.head(10)"
   ]
  },
  {
   "cell_type": "code",
   "execution_count": 106,
   "id": "6825d4fc-82e6-4056-9eb7-0553c0cfeda9",
   "metadata": {},
   "outputs": [
    {
     "name": "stdout",
     "output_type": "stream",
     "text": [
      "        match_no               team_1               team_2        batsmen  \\\n",
      "0              1       Mumbai Indians  Chennai Super Kings  ST Jayasuriya   \n",
      "1              1       Mumbai Indians  Chennai Super Kings   SR Tendulkar   \n",
      "2              1       Mumbai Indians  Chennai Super Kings       S Dhawan   \n",
      "3              1       Mumbai Indians  Chennai Super Kings      JP Duminy   \n",
      "4              1       Mumbai Indians  Chennai Super Kings       DJ Bravo   \n",
      "...          ...                  ...                  ...            ...   \n",
      "11541  Final (N)  Chennai Super Kings     Rajasthan Royals      YK Pathan   \n",
      "11542  Final (N)  Chennai Super Kings     Rajasthan Royals         M Kaif   \n",
      "11543  Final (N)  Chennai Super Kings     Rajasthan Royals      RA Jadeja   \n",
      "11544  Final (N)  Chennai Super Kings     Rajasthan Royals       SK Warne   \n",
      "11545  Final (N)  Chennai Super Kings     Rajasthan Royals  Sohail Tanvir   \n",
      "\n",
      "                    wicket_status     R     B    M  fours  sixes      SR  \\\n",
      "0             c Hayden b Thushara  26.0  20.0  0.0    5.0    0.0  130.00   \n",
      "1                         not out  59.0  49.0  0.0    7.0    0.0  120.40   \n",
      "2                  c Dhoni b Gony  22.0  21.0  0.0    2.0    0.0  104.76   \n",
      "3                      c & b Gony   9.0   7.0  0.0    1.0    0.0  128.57   \n",
      "4      c Hayden b Joginder Sharma   5.0   4.0  0.0    1.0    0.0  125.00   \n",
      "...                           ...   ...   ...  ...    ...    ...     ...   \n",
      "11541             run out (Raina)  56.0  39.0  0.0    3.0    4.0  143.58   \n",
      "11542      c Dhoni b Muralitharan  12.0   9.0  0.0    0.0    1.0  133.33   \n",
      "11543       c Kapugedera b Morkel   0.0   1.0  0.0    0.0    0.0    0.00   \n",
      "11544                     not out   9.0   9.0  0.0    1.0    0.0  100.00   \n",
      "11545                     not out   9.0   7.0  0.0    0.0    0.0  128.57   \n",
      "\n",
      "        special_role dismissal_mode      bowler_name     fielder  \\\n",
      "0      normal player         caught         Thushara      Hayden   \n",
      "1            captain        not out        no bowler  no fielder   \n",
      "2      normal player         caught             Gony       Dhoni   \n",
      "3      normal player         caught             Gony        Gony   \n",
      "4      normal player         caught  Joginder Sharma      Hayden   \n",
      "...              ...            ...              ...         ...   \n",
      "11541  normal player        run out        no bowler  no fielder   \n",
      "11542  normal player         caught     Muralitharan       Dhoni   \n",
      "11543  normal player         caught           Morkel  Kapugedera   \n",
      "11544        captain        not out        no bowler  no fielder   \n",
      "11545  normal player        not out        no bowler  no fielder   \n",
      "\n",
      "       is_fielder_involved  match_date        year  \n",
      "0                        1  2009-04-18  2009-04-18  \n",
      "1                        0  2009-04-18  2009-04-18  \n",
      "2                        1  2009-04-18  2009-04-18  \n",
      "3                        1  2009-04-18  2009-04-18  \n",
      "4                        1  2009-04-18  2009-04-18  \n",
      "...                    ...         ...         ...  \n",
      "11541                    0  2008-06-01  2008-06-01  \n",
      "11542                    1  2008-06-01  2008-06-01  \n",
      "11543                    1  2008-06-01  2008-06-01  \n",
      "11544                    0  2008-06-01  2008-06-01  \n",
      "11545                    0  2008-06-01  2008-06-01  \n",
      "\n",
      "[11546 rows x 18 columns]\n"
     ]
    }
   ],
   "source": [
    "print(batting)\n",
    "df = batting\n",
    "dt = df.match_date\n",
    "col = list()\n",
    "for i in dt:\n",
    "    i = str(i)\n",
    "    temp = i.split('-')\n",
    "    col.append(temp[0])\n",
    "df['year'] = col"
   ]
  },
  {
   "cell_type": "code",
   "execution_count": 107,
   "id": "b1cf245a-80e5-4ac4-bee4-85f58fcd8045",
   "metadata": {},
   "outputs": [
    {
     "data": {
      "text/html": [
       "<div>\n",
       "<style scoped>\n",
       "    .dataframe tbody tr th:only-of-type {\n",
       "        vertical-align: middle;\n",
       "    }\n",
       "\n",
       "    .dataframe tbody tr th {\n",
       "        vertical-align: top;\n",
       "    }\n",
       "\n",
       "    .dataframe thead th {\n",
       "        text-align: right;\n",
       "    }\n",
       "</style>\n",
       "<table border=\"1\" class=\"dataframe\">\n",
       "  <thead>\n",
       "    <tr style=\"text-align: right;\">\n",
       "      <th></th>\n",
       "      <th>match_no</th>\n",
       "      <th>team_1</th>\n",
       "      <th>team_2</th>\n",
       "      <th>batsmen</th>\n",
       "      <th>wicket_status</th>\n",
       "      <th>R</th>\n",
       "      <th>B</th>\n",
       "      <th>M</th>\n",
       "      <th>fours</th>\n",
       "      <th>sixes</th>\n",
       "      <th>SR</th>\n",
       "      <th>special_role</th>\n",
       "      <th>dismissal_mode</th>\n",
       "      <th>bowler_name</th>\n",
       "      <th>fielder</th>\n",
       "      <th>is_fielder_involved</th>\n",
       "      <th>match_date</th>\n",
       "      <th>year</th>\n",
       "    </tr>\n",
       "  </thead>\n",
       "  <tbody>\n",
       "    <tr>\n",
       "      <th>0</th>\n",
       "      <td>1</td>\n",
       "      <td>Mumbai Indians</td>\n",
       "      <td>Chennai Super Kings</td>\n",
       "      <td>ST Jayasuriya</td>\n",
       "      <td>c Hayden b Thushara</td>\n",
       "      <td>26.0</td>\n",
       "      <td>20.0</td>\n",
       "      <td>0.0</td>\n",
       "      <td>5.0</td>\n",
       "      <td>0.0</td>\n",
       "      <td>130.00</td>\n",
       "      <td>normal player</td>\n",
       "      <td>caught</td>\n",
       "      <td>Thushara</td>\n",
       "      <td>Hayden</td>\n",
       "      <td>1</td>\n",
       "      <td>2009-04-18</td>\n",
       "      <td>2009</td>\n",
       "    </tr>\n",
       "    <tr>\n",
       "      <th>1</th>\n",
       "      <td>1</td>\n",
       "      <td>Mumbai Indians</td>\n",
       "      <td>Chennai Super Kings</td>\n",
       "      <td>SR Tendulkar</td>\n",
       "      <td>not out</td>\n",
       "      <td>59.0</td>\n",
       "      <td>49.0</td>\n",
       "      <td>0.0</td>\n",
       "      <td>7.0</td>\n",
       "      <td>0.0</td>\n",
       "      <td>120.40</td>\n",
       "      <td>captain</td>\n",
       "      <td>not out</td>\n",
       "      <td>no bowler</td>\n",
       "      <td>no fielder</td>\n",
       "      <td>0</td>\n",
       "      <td>2009-04-18</td>\n",
       "      <td>2009</td>\n",
       "    </tr>\n",
       "    <tr>\n",
       "      <th>2</th>\n",
       "      <td>1</td>\n",
       "      <td>Mumbai Indians</td>\n",
       "      <td>Chennai Super Kings</td>\n",
       "      <td>S Dhawan</td>\n",
       "      <td>c Dhoni b Gony</td>\n",
       "      <td>22.0</td>\n",
       "      <td>21.0</td>\n",
       "      <td>0.0</td>\n",
       "      <td>2.0</td>\n",
       "      <td>0.0</td>\n",
       "      <td>104.76</td>\n",
       "      <td>normal player</td>\n",
       "      <td>caught</td>\n",
       "      <td>Gony</td>\n",
       "      <td>Dhoni</td>\n",
       "      <td>1</td>\n",
       "      <td>2009-04-18</td>\n",
       "      <td>2009</td>\n",
       "    </tr>\n",
       "    <tr>\n",
       "      <th>3</th>\n",
       "      <td>1</td>\n",
       "      <td>Mumbai Indians</td>\n",
       "      <td>Chennai Super Kings</td>\n",
       "      <td>JP Duminy</td>\n",
       "      <td>c &amp; b Gony</td>\n",
       "      <td>9.0</td>\n",
       "      <td>7.0</td>\n",
       "      <td>0.0</td>\n",
       "      <td>1.0</td>\n",
       "      <td>0.0</td>\n",
       "      <td>128.57</td>\n",
       "      <td>normal player</td>\n",
       "      <td>caught</td>\n",
       "      <td>Gony</td>\n",
       "      <td>Gony</td>\n",
       "      <td>1</td>\n",
       "      <td>2009-04-18</td>\n",
       "      <td>2009</td>\n",
       "    </tr>\n",
       "    <tr>\n",
       "      <th>4</th>\n",
       "      <td>1</td>\n",
       "      <td>Mumbai Indians</td>\n",
       "      <td>Chennai Super Kings</td>\n",
       "      <td>DJ Bravo</td>\n",
       "      <td>c Hayden b Joginder Sharma</td>\n",
       "      <td>5.0</td>\n",
       "      <td>4.0</td>\n",
       "      <td>0.0</td>\n",
       "      <td>1.0</td>\n",
       "      <td>0.0</td>\n",
       "      <td>125.00</td>\n",
       "      <td>normal player</td>\n",
       "      <td>caught</td>\n",
       "      <td>Joginder Sharma</td>\n",
       "      <td>Hayden</td>\n",
       "      <td>1</td>\n",
       "      <td>2009-04-18</td>\n",
       "      <td>2009</td>\n",
       "    </tr>\n",
       "  </tbody>\n",
       "</table>\n",
       "</div>"
      ],
      "text/plain": [
       "  match_no          team_1               team_2        batsmen  \\\n",
       "0        1  Mumbai Indians  Chennai Super Kings  ST Jayasuriya   \n",
       "1        1  Mumbai Indians  Chennai Super Kings   SR Tendulkar   \n",
       "2        1  Mumbai Indians  Chennai Super Kings       S Dhawan   \n",
       "3        1  Mumbai Indians  Chennai Super Kings      JP Duminy   \n",
       "4        1  Mumbai Indians  Chennai Super Kings       DJ Bravo   \n",
       "\n",
       "                wicket_status     R     B    M  fours  sixes      SR  \\\n",
       "0         c Hayden b Thushara  26.0  20.0  0.0    5.0    0.0  130.00   \n",
       "1                     not out  59.0  49.0  0.0    7.0    0.0  120.40   \n",
       "2              c Dhoni b Gony  22.0  21.0  0.0    2.0    0.0  104.76   \n",
       "3                  c & b Gony   9.0   7.0  0.0    1.0    0.0  128.57   \n",
       "4  c Hayden b Joginder Sharma   5.0   4.0  0.0    1.0    0.0  125.00   \n",
       "\n",
       "    special_role dismissal_mode      bowler_name     fielder  \\\n",
       "0  normal player         caught         Thushara      Hayden   \n",
       "1        captain        not out        no bowler  no fielder   \n",
       "2  normal player         caught             Gony       Dhoni   \n",
       "3  normal player         caught             Gony        Gony   \n",
       "4  normal player         caught  Joginder Sharma      Hayden   \n",
       "\n",
       "   is_fielder_involved  match_date  year  \n",
       "0                    1  2009-04-18  2009  \n",
       "1                    0  2009-04-18  2009  \n",
       "2                    1  2009-04-18  2009  \n",
       "3                    1  2009-04-18  2009  \n",
       "4                    1  2009-04-18  2009  "
      ]
     },
     "execution_count": 107,
     "metadata": {},
     "output_type": "execute_result"
    }
   ],
   "source": [
    "df.head()"
   ]
  },
  {
   "cell_type": "code",
   "execution_count": 108,
   "id": "73caca1c-b37e-4a4f-a71a-5d856eddf82b",
   "metadata": {},
   "outputs": [
    {
     "data": {
      "text/html": [
       "<div>\n",
       "<style scoped>\n",
       "    .dataframe tbody tr th:only-of-type {\n",
       "        vertical-align: middle;\n",
       "    }\n",
       "\n",
       "    .dataframe tbody tr th {\n",
       "        vertical-align: top;\n",
       "    }\n",
       "\n",
       "    .dataframe thead th {\n",
       "        text-align: right;\n",
       "    }\n",
       "</style>\n",
       "<table border=\"1\" class=\"dataframe\">\n",
       "  <thead>\n",
       "    <tr style=\"text-align: right;\">\n",
       "      <th></th>\n",
       "      <th>match_no</th>\n",
       "      <th>team_1</th>\n",
       "      <th>team_2</th>\n",
       "      <th>batsmen</th>\n",
       "      <th>wicket_status</th>\n",
       "      <th>R</th>\n",
       "      <th>B</th>\n",
       "      <th>M</th>\n",
       "      <th>fours</th>\n",
       "      <th>sixes</th>\n",
       "      <th>SR</th>\n",
       "      <th>special_role</th>\n",
       "      <th>dismissal_mode</th>\n",
       "      <th>bowler_name</th>\n",
       "      <th>fielder</th>\n",
       "      <th>is_fielder_involved</th>\n",
       "      <th>match_date</th>\n",
       "      <th>year</th>\n",
       "    </tr>\n",
       "  </thead>\n",
       "  <tbody>\n",
       "    <tr>\n",
       "      <th>6962</th>\n",
       "      <td>1</td>\n",
       "      <td>Sunrisers Hyderabad</td>\n",
       "      <td>Royal Challengers Bangalore</td>\n",
       "      <td>DA Warner</td>\n",
       "      <td>c Mandeep Singh b Choudhary</td>\n",
       "      <td>14.0</td>\n",
       "      <td>8.0</td>\n",
       "      <td>10.0</td>\n",
       "      <td>2.0</td>\n",
       "      <td>1.0</td>\n",
       "      <td>175.00</td>\n",
       "      <td>captain</td>\n",
       "      <td>caught</td>\n",
       "      <td>Choudhary</td>\n",
       "      <td>Mandeep Singh</td>\n",
       "      <td>1</td>\n",
       "      <td>2017-04-05</td>\n",
       "      <td>2017</td>\n",
       "    </tr>\n",
       "    <tr>\n",
       "      <th>6963</th>\n",
       "      <td>1</td>\n",
       "      <td>Sunrisers Hyderabad</td>\n",
       "      <td>Royal Challengers Bangalore</td>\n",
       "      <td>S Dhawan</td>\n",
       "      <td>c Sachin Baby b Binny</td>\n",
       "      <td>40.0</td>\n",
       "      <td>31.0</td>\n",
       "      <td>51.0</td>\n",
       "      <td>5.0</td>\n",
       "      <td>0.0</td>\n",
       "      <td>129.03</td>\n",
       "      <td>normal player</td>\n",
       "      <td>caught</td>\n",
       "      <td>Binny</td>\n",
       "      <td>Sachin Baby</td>\n",
       "      <td>1</td>\n",
       "      <td>2017-04-05</td>\n",
       "      <td>2017</td>\n",
       "    </tr>\n",
       "    <tr>\n",
       "      <th>6964</th>\n",
       "      <td>1</td>\n",
       "      <td>Sunrisers Hyderabad</td>\n",
       "      <td>Royal Challengers Bangalore</td>\n",
       "      <td>MC Henriques</td>\n",
       "      <td>c Sachin Baby b Chahal</td>\n",
       "      <td>52.0</td>\n",
       "      <td>37.0</td>\n",
       "      <td>67.0</td>\n",
       "      <td>3.0</td>\n",
       "      <td>2.0</td>\n",
       "      <td>140.54</td>\n",
       "      <td>normal player</td>\n",
       "      <td>caught</td>\n",
       "      <td>Chahal</td>\n",
       "      <td>Sachin Baby</td>\n",
       "      <td>1</td>\n",
       "      <td>2017-04-05</td>\n",
       "      <td>2017</td>\n",
       "    </tr>\n",
       "    <tr>\n",
       "      <th>6965</th>\n",
       "      <td>1</td>\n",
       "      <td>Sunrisers Hyderabad</td>\n",
       "      <td>Royal Challengers Bangalore</td>\n",
       "      <td>Yuvraj Singh</td>\n",
       "      <td>b Mills</td>\n",
       "      <td>62.0</td>\n",
       "      <td>27.0</td>\n",
       "      <td>49.0</td>\n",
       "      <td>7.0</td>\n",
       "      <td>3.0</td>\n",
       "      <td>229.62</td>\n",
       "      <td>normal player</td>\n",
       "      <td>bowled</td>\n",
       "      <td>Mills</td>\n",
       "      <td>no fielder</td>\n",
       "      <td>0</td>\n",
       "      <td>2017-04-05</td>\n",
       "      <td>2017</td>\n",
       "    </tr>\n",
       "    <tr>\n",
       "      <th>6966</th>\n",
       "      <td>1</td>\n",
       "      <td>Sunrisers Hyderabad</td>\n",
       "      <td>Royal Challengers Bangalore</td>\n",
       "      <td>DJ Hooda</td>\n",
       "      <td>not out</td>\n",
       "      <td>16.0</td>\n",
       "      <td>12.0</td>\n",
       "      <td>29.0</td>\n",
       "      <td>0.0</td>\n",
       "      <td>1.0</td>\n",
       "      <td>133.33</td>\n",
       "      <td>normal player</td>\n",
       "      <td>not out</td>\n",
       "      <td>no bowler</td>\n",
       "      <td>no fielder</td>\n",
       "      <td>0</td>\n",
       "      <td>2017-04-05</td>\n",
       "      <td>2017</td>\n",
       "    </tr>\n",
       "  </tbody>\n",
       "</table>\n",
       "</div>"
      ],
      "text/plain": [
       "     match_no               team_1                       team_2       batsmen  \\\n",
       "6962        1  Sunrisers Hyderabad  Royal Challengers Bangalore     DA Warner   \n",
       "6963        1  Sunrisers Hyderabad  Royal Challengers Bangalore      S Dhawan   \n",
       "6964        1  Sunrisers Hyderabad  Royal Challengers Bangalore  MC Henriques   \n",
       "6965        1  Sunrisers Hyderabad  Royal Challengers Bangalore  Yuvraj Singh   \n",
       "6966        1  Sunrisers Hyderabad  Royal Challengers Bangalore      DJ Hooda   \n",
       "\n",
       "                    wicket_status     R     B     M  fours  sixes      SR  \\\n",
       "6962  c Mandeep Singh b Choudhary  14.0   8.0  10.0    2.0    1.0  175.00   \n",
       "6963        c Sachin Baby b Binny  40.0  31.0  51.0    5.0    0.0  129.03   \n",
       "6964       c Sachin Baby b Chahal  52.0  37.0  67.0    3.0    2.0  140.54   \n",
       "6965                      b Mills  62.0  27.0  49.0    7.0    3.0  229.62   \n",
       "6966                      not out  16.0  12.0  29.0    0.0    1.0  133.33   \n",
       "\n",
       "       special_role dismissal_mode bowler_name        fielder  \\\n",
       "6962        captain         caught   Choudhary  Mandeep Singh   \n",
       "6963  normal player         caught       Binny    Sachin Baby   \n",
       "6964  normal player         caught      Chahal    Sachin Baby   \n",
       "6965  normal player         bowled       Mills     no fielder   \n",
       "6966  normal player        not out   no bowler     no fielder   \n",
       "\n",
       "      is_fielder_involved  match_date  year  \n",
       "6962                    1  2017-04-05  2017  \n",
       "6963                    1  2017-04-05  2017  \n",
       "6964                    1  2017-04-05  2017  \n",
       "6965                    0  2017-04-05  2017  \n",
       "6966                    0  2017-04-05  2017  "
      ]
     },
     "execution_count": 108,
     "metadata": {},
     "output_type": "execute_result"
    }
   ],
   "source": [
    "df = df[df['year']=='2017']\n",
    "df.head()"
   ]
  },
  {
   "cell_type": "code",
   "execution_count": 109,
   "id": "15a41664-5ae1-4975-895a-b75dc42207dd",
   "metadata": {},
   "outputs": [
    {
     "data": {
      "text/plain": [
       "<seaborn.axisgrid.JointGrid at 0x1785c292710>"
      ]
     },
     "execution_count": 109,
     "metadata": {},
     "output_type": "execute_result"
    },
    {
     "data": {
      "image/png": "[encoded data removed]",
      "text/plain": [
       "<Figure size 600x600 with 3 Axes>"
      ]
     },
     "metadata": {},
     "output_type": "display_data"
    }
   ],
   "source": [
    "sns.jointplot(x='R',y='B',data=df)"
   ]
  },
  {
   "cell_type": "code",
   "execution_count": null,
   "id": "850f4f21-e07a-4c4d-ba94-fe84b3271204",
   "metadata": {},
   "outputs": [],
   "source": []
  }
 ],
 "metadata": {
  "kernelspec": {
   "display_name": "Python 3 (ipykernel)",
   "language": "python",
   "name": "python3"
  },
  "language_info": {
   "codemirror_mode": {
    "name": "ipython",
    "version": 3
   },
   "file_extension": ".py",
   "mimetype": "text/x-python",
   "name": "python",
   "nbconvert_exporter": "python",
   "pygments_lexer": "ipython3",
   "version": "3.13.2"
  }
 },
 "nbformat": 4,
 "nbformat_minor": 5
}
